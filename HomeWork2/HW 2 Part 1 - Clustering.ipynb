{
 "cells": [
  {
   "cell_type": "markdown",
   "metadata": {
    "id": "7Cd_pe4uWiOS"
   },
   "source": [
    "# HW 2 Part 1: Clustering on the Bank Marketing Dataset\n",
    "\n",
    "The original dataset is available here: https://archive.ics.uci.edu/ml/datasets/Bank+Marketing\n",
    "We have a modified subset of this dataset to practice data  preprocessing. \n",
    "\n",
    "Perform the following tasks on the provided bank marketing dataset (bank-hw1.csv contains the dataset and bank-names.txt contains the description of the original dataset). Complete all the LP questions to receive a \"low pass\" grade on the homework. Complete all the LP questions and at least one of the HP questions to receive a \"high pass\" grade on the homework. \n",
    "\n",
    "Note that if you are unable to complete any of the LP questions satisfactorily, you will receive a grade of \"revision required\". You can revise and resubmit your work in exchange for a token. Please review the syllabus for more information on specifications grading.\n",
    "\n",
    "**VERY IMPORTANT**: Include **ALL** the references you used for this assignment, including names of classmates you discuss with. Failure to cite your sources counts as an act of academic dishonesty and will be taken seriously without zero tolerance. You will automatically receive a “fail” grade in the homework and further serious penalties may be imposed.\n",
    "\n",
    "NOTE: You can look for help on the Internet but refrain from referencing too much. Please cite all your sources in your submission. \n",
    "When you submit your assignment, you automatically agree to the following statement. If you do not agree, it is your responsibility to provide the reason.\n",
    "\n",
    "“*I affirm that I have neither given nor received unauthorized help in completing this homework. I am not aware of others receiving such help. I have cited all the sources in the solution file.*”"
   ]
  },
  {
   "cell_type": "markdown",
   "metadata": {
    "id": "FNycoKnlZOCf"
   },
   "source": [
    "[LP 1] Import your preprocessed dataset from HW1 or clean the dataset here. Extract the following columns:\n",
    "\n",
    "1. duration: all entries must be non-negative\n",
    "2. campaign\n",
    "3. pdays\n",
    "4. previous\n",
    "\n",
    "The set of values in each column and their meaning is provided in the bank-names.txt file. You can use the information to make decisions. Please explain your choices if you are preprocessing the dataset again here OR comment that you are using your preprocessed dataset from HW1. \n",
    "\n",
    "Perform K-means clustering on this filtered dataset with k = 3 and plot the results."
   ]
  },
  {
   "cell_type": "code",
   "execution_count": 1,
   "metadata": {
    "id": "7mTSEo9-WrIg"
   },
   "outputs": [
    {
     "data": {
      "text/html": [
       "<div>\n",
       "<style scoped>\n",
       "    .dataframe tbody tr th:only-of-type {\n",
       "        vertical-align: middle;\n",
       "    }\n",
       "\n",
       "    .dataframe tbody tr th {\n",
       "        vertical-align: top;\n",
       "    }\n",
       "\n",
       "    .dataframe thead th {\n",
       "        text-align: right;\n",
       "    }\n",
       "</style>\n",
       "<table border=\"1\" class=\"dataframe\">\n",
       "  <thead>\n",
       "    <tr style=\"text-align: right;\">\n",
       "      <th></th>\n",
       "      <th>Unnamed: 0</th>\n",
       "      <th>age</th>\n",
       "      <th>marital</th>\n",
       "      <th>education</th>\n",
       "      <th>default</th>\n",
       "      <th>balance</th>\n",
       "      <th>housing</th>\n",
       "      <th>loan</th>\n",
       "      <th>contact</th>\n",
       "      <th>month</th>\n",
       "      <th>...</th>\n",
       "      <th>unemployed</th>\n",
       "      <th>20</th>\n",
       "      <th>7</th>\n",
       "      <th>17</th>\n",
       "      <th>5</th>\n",
       "      <th>18</th>\n",
       "      <th>28</th>\n",
       "      <th>14</th>\n",
       "      <th>21</th>\n",
       "      <th>6</th>\n",
       "    </tr>\n",
       "  </thead>\n",
       "  <tbody>\n",
       "    <tr>\n",
       "      <th>0</th>\n",
       "      <td>0</td>\n",
       "      <td>0.451613</td>\n",
       "      <td>0</td>\n",
       "      <td>1.0</td>\n",
       "      <td>1</td>\n",
       "      <td>-0.518096</td>\n",
       "      <td>0</td>\n",
       "      <td>0</td>\n",
       "      <td>1</td>\n",
       "      <td>0</td>\n",
       "      <td>...</td>\n",
       "      <td>0</td>\n",
       "      <td>0</td>\n",
       "      <td>0</td>\n",
       "      <td>0</td>\n",
       "      <td>0</td>\n",
       "      <td>0</td>\n",
       "      <td>0</td>\n",
       "      <td>0</td>\n",
       "      <td>0</td>\n",
       "      <td>0</td>\n",
       "    </tr>\n",
       "    <tr>\n",
       "      <th>1</th>\n",
       "      <td>1</td>\n",
       "      <td>0.370968</td>\n",
       "      <td>0</td>\n",
       "      <td>1.0</td>\n",
       "      <td>1</td>\n",
       "      <td>-0.417386</td>\n",
       "      <td>1</td>\n",
       "      <td>1</td>\n",
       "      <td>1</td>\n",
       "      <td>0</td>\n",
       "      <td>...</td>\n",
       "      <td>0</td>\n",
       "      <td>0</td>\n",
       "      <td>0</td>\n",
       "      <td>0</td>\n",
       "      <td>0</td>\n",
       "      <td>0</td>\n",
       "      <td>0</td>\n",
       "      <td>0</td>\n",
       "      <td>0</td>\n",
       "      <td>0</td>\n",
       "    </tr>\n",
       "    <tr>\n",
       "      <th>2</th>\n",
       "      <td>2</td>\n",
       "      <td>0.096774</td>\n",
       "      <td>1</td>\n",
       "      <td>0.0</td>\n",
       "      <td>1</td>\n",
       "      <td>-0.368150</td>\n",
       "      <td>1</td>\n",
       "      <td>1</td>\n",
       "      <td>1</td>\n",
       "      <td>1</td>\n",
       "      <td>...</td>\n",
       "      <td>0</td>\n",
       "      <td>0</td>\n",
       "      <td>0</td>\n",
       "      <td>0</td>\n",
       "      <td>0</td>\n",
       "      <td>0</td>\n",
       "      <td>0</td>\n",
       "      <td>0</td>\n",
       "      <td>0</td>\n",
       "      <td>0</td>\n",
       "    </tr>\n",
       "    <tr>\n",
       "      <th>3</th>\n",
       "      <td>3</td>\n",
       "      <td>0.483871</td>\n",
       "      <td>0</td>\n",
       "      <td>0.0</td>\n",
       "      <td>1</td>\n",
       "      <td>-0.332022</td>\n",
       "      <td>1</td>\n",
       "      <td>1</td>\n",
       "      <td>0</td>\n",
       "      <td>0</td>\n",
       "      <td>...</td>\n",
       "      <td>0</td>\n",
       "      <td>0</td>\n",
       "      <td>0</td>\n",
       "      <td>0</td>\n",
       "      <td>0</td>\n",
       "      <td>0</td>\n",
       "      <td>0</td>\n",
       "      <td>0</td>\n",
       "      <td>0</td>\n",
       "      <td>0</td>\n",
       "    </tr>\n",
       "    <tr>\n",
       "      <th>4</th>\n",
       "      <td>4</td>\n",
       "      <td>0.096774</td>\n",
       "      <td>1</td>\n",
       "      <td>0.0</td>\n",
       "      <td>1</td>\n",
       "      <td>-0.488043</td>\n",
       "      <td>0</td>\n",
       "      <td>1</td>\n",
       "      <td>1</td>\n",
       "      <td>0</td>\n",
       "      <td>...</td>\n",
       "      <td>0</td>\n",
       "      <td>0</td>\n",
       "      <td>0</td>\n",
       "      <td>0</td>\n",
       "      <td>0</td>\n",
       "      <td>0</td>\n",
       "      <td>0</td>\n",
       "      <td>0</td>\n",
       "      <td>0</td>\n",
       "      <td>0</td>\n",
       "    </tr>\n",
       "    <tr>\n",
       "      <th>...</th>\n",
       "      <td>...</td>\n",
       "      <td>...</td>\n",
       "      <td>...</td>\n",
       "      <td>...</td>\n",
       "      <td>...</td>\n",
       "      <td>...</td>\n",
       "      <td>...</td>\n",
       "      <td>...</td>\n",
       "      <td>...</td>\n",
       "      <td>...</td>\n",
       "      <td>...</td>\n",
       "      <td>...</td>\n",
       "      <td>...</td>\n",
       "      <td>...</td>\n",
       "      <td>...</td>\n",
       "      <td>...</td>\n",
       "      <td>...</td>\n",
       "      <td>...</td>\n",
       "      <td>...</td>\n",
       "      <td>...</td>\n",
       "      <td>...</td>\n",
       "    </tr>\n",
       "    <tr>\n",
       "      <th>2237</th>\n",
       "      <td>2246</td>\n",
       "      <td>0.161290</td>\n",
       "      <td>1</td>\n",
       "      <td>1.0</td>\n",
       "      <td>1</td>\n",
       "      <td>-0.331063</td>\n",
       "      <td>0</td>\n",
       "      <td>1</td>\n",
       "      <td>1</td>\n",
       "      <td>0</td>\n",
       "      <td>...</td>\n",
       "      <td>0</td>\n",
       "      <td>0</td>\n",
       "      <td>0</td>\n",
       "      <td>0</td>\n",
       "      <td>0</td>\n",
       "      <td>0</td>\n",
       "      <td>0</td>\n",
       "      <td>0</td>\n",
       "      <td>0</td>\n",
       "      <td>0</td>\n",
       "    </tr>\n",
       "    <tr>\n",
       "      <th>2238</th>\n",
       "      <td>2247</td>\n",
       "      <td>0.580645</td>\n",
       "      <td>0</td>\n",
       "      <td>0.0</td>\n",
       "      <td>1</td>\n",
       "      <td>0.685634</td>\n",
       "      <td>1</td>\n",
       "      <td>1</td>\n",
       "      <td>1</td>\n",
       "      <td>0</td>\n",
       "      <td>...</td>\n",
       "      <td>0</td>\n",
       "      <td>0</td>\n",
       "      <td>0</td>\n",
       "      <td>0</td>\n",
       "      <td>0</td>\n",
       "      <td>0</td>\n",
       "      <td>0</td>\n",
       "      <td>0</td>\n",
       "      <td>0</td>\n",
       "      <td>0</td>\n",
       "    </tr>\n",
       "    <tr>\n",
       "      <th>2239</th>\n",
       "      <td>2248</td>\n",
       "      <td>0.193548</td>\n",
       "      <td>1</td>\n",
       "      <td>1.0</td>\n",
       "      <td>1</td>\n",
       "      <td>-0.417386</td>\n",
       "      <td>0</td>\n",
       "      <td>1</td>\n",
       "      <td>1</td>\n",
       "      <td>0</td>\n",
       "      <td>...</td>\n",
       "      <td>0</td>\n",
       "      <td>0</td>\n",
       "      <td>0</td>\n",
       "      <td>0</td>\n",
       "      <td>0</td>\n",
       "      <td>0</td>\n",
       "      <td>0</td>\n",
       "      <td>0</td>\n",
       "      <td>0</td>\n",
       "      <td>0</td>\n",
       "    </tr>\n",
       "    <tr>\n",
       "      <th>2240</th>\n",
       "      <td>2249</td>\n",
       "      <td>0.483871</td>\n",
       "      <td>0</td>\n",
       "      <td>0.0</td>\n",
       "      <td>1</td>\n",
       "      <td>0.431460</td>\n",
       "      <td>1</td>\n",
       "      <td>1</td>\n",
       "      <td>1</td>\n",
       "      <td>0</td>\n",
       "      <td>...</td>\n",
       "      <td>0</td>\n",
       "      <td>0</td>\n",
       "      <td>0</td>\n",
       "      <td>1</td>\n",
       "      <td>0</td>\n",
       "      <td>0</td>\n",
       "      <td>0</td>\n",
       "      <td>0</td>\n",
       "      <td>0</td>\n",
       "      <td>0</td>\n",
       "    </tr>\n",
       "    <tr>\n",
       "      <th>2241</th>\n",
       "      <td>2250</td>\n",
       "      <td>0.290323</td>\n",
       "      <td>0</td>\n",
       "      <td>1.0</td>\n",
       "      <td>1</td>\n",
       "      <td>0.537606</td>\n",
       "      <td>0</td>\n",
       "      <td>1</td>\n",
       "      <td>1</td>\n",
       "      <td>0</td>\n",
       "      <td>...</td>\n",
       "      <td>0</td>\n",
       "      <td>0</td>\n",
       "      <td>0</td>\n",
       "      <td>0</td>\n",
       "      <td>0</td>\n",
       "      <td>0</td>\n",
       "      <td>0</td>\n",
       "      <td>0</td>\n",
       "      <td>0</td>\n",
       "      <td>0</td>\n",
       "    </tr>\n",
       "  </tbody>\n",
       "</table>\n",
       "<p>2242 rows × 35 columns</p>\n",
       "</div>"
      ],
      "text/plain": [
       "      Unnamed: 0       age  marital  education  default   balance  housing  \\\n",
       "0              0  0.451613        0        1.0        1 -0.518096        0   \n",
       "1              1  0.370968        0        1.0        1 -0.417386        1   \n",
       "2              2  0.096774        1        0.0        1 -0.368150        1   \n",
       "3              3  0.483871        0        0.0        1 -0.332022        1   \n",
       "4              4  0.096774        1        0.0        1 -0.488043        0   \n",
       "...          ...       ...      ...        ...      ...       ...      ...   \n",
       "2237        2246  0.161290        1        1.0        1 -0.331063        0   \n",
       "2238        2247  0.580645        0        0.0        1  0.685634        1   \n",
       "2239        2248  0.193548        1        1.0        1 -0.417386        0   \n",
       "2240        2249  0.483871        0        0.0        1  0.431460        1   \n",
       "2241        2250  0.290323        0        1.0        1  0.537606        0   \n",
       "\n",
       "      loan  contact  month  ...  unemployed  20  7  17  5 18  28  14  21  6  \n",
       "0        0        1      0  ...           0   0  0   0  0  0   0   0   0  0  \n",
       "1        1        1      0  ...           0   0  0   0  0  0   0   0   0  0  \n",
       "2        1        1      1  ...           0   0  0   0  0  0   0   0   0  0  \n",
       "3        1        0      0  ...           0   0  0   0  0  0   0   0   0  0  \n",
       "4        1        1      0  ...           0   0  0   0  0  0   0   0   0  0  \n",
       "...    ...      ...    ...  ...         ...  .. ..  .. .. ..  ..  ..  .. ..  \n",
       "2237     1        1      0  ...           0   0  0   0  0  0   0   0   0  0  \n",
       "2238     1        1      0  ...           0   0  0   0  0  0   0   0   0  0  \n",
       "2239     1        1      0  ...           0   0  0   0  0  0   0   0   0  0  \n",
       "2240     1        1      0  ...           0   0  0   1  0  0   0   0   0  0  \n",
       "2241     1        1      0  ...           0   0  0   0  0  0   0   0   0  0  \n",
       "\n",
       "[2242 rows x 35 columns]"
      ]
     },
     "execution_count": 1,
     "metadata": {},
     "output_type": "execute_result"
    }
   ],
   "source": [
    "# Your code for LP1 goes here\n",
    "# Feel free to add cells below this for LP1\n",
    "import pandas as pd\n",
    "bank=pd.read_csv('Desktop/bank_cleans.csv')\n",
    "bank\n"
   ]
  },
  {
   "cell_type": "code",
   "execution_count": 2,
   "metadata": {},
   "outputs": [],
   "source": [
    "from sklearn.cluster import KMeans\n",
    "from matplotlib import pyplot as plt"
   ]
  },
  {
   "cell_type": "code",
   "execution_count": 3,
   "metadata": {},
   "outputs": [],
   "source": [
    "cluster=bank[[\"duration\",\"campaign\",\"pdays\",\"previous\"]]\n",
    "cluster1=bank[[\"duration\",\"campaign\",\"pdays\",\"previous\",\"y\"]]"
   ]
  },
  {
   "cell_type": "code",
   "execution_count": 4,
   "metadata": {
    "scrolled": true
   },
   "outputs": [
    {
     "data": {
      "text/html": [
       "<div>\n",
       "<style scoped>\n",
       "    .dataframe tbody tr th:only-of-type {\n",
       "        vertical-align: middle;\n",
       "    }\n",
       "\n",
       "    .dataframe tbody tr th {\n",
       "        vertical-align: top;\n",
       "    }\n",
       "\n",
       "    .dataframe thead th {\n",
       "        text-align: right;\n",
       "    }\n",
       "</style>\n",
       "<table border=\"1\" class=\"dataframe\">\n",
       "  <thead>\n",
       "    <tr style=\"text-align: right;\">\n",
       "      <th></th>\n",
       "      <th>duration</th>\n",
       "      <th>campaign</th>\n",
       "      <th>pdays</th>\n",
       "      <th>previous</th>\n",
       "    </tr>\n",
       "  </thead>\n",
       "  <tbody>\n",
       "    <tr>\n",
       "      <th>0</th>\n",
       "      <td>-0.560314</td>\n",
       "      <td>2.092004</td>\n",
       "      <td>-0.417772</td>\n",
       "      <td>-0.290286</td>\n",
       "    </tr>\n",
       "    <tr>\n",
       "      <th>1</th>\n",
       "      <td>-0.310969</td>\n",
       "      <td>4.439824</td>\n",
       "      <td>-0.417772</td>\n",
       "      <td>-0.290286</td>\n",
       "    </tr>\n",
       "    <tr>\n",
       "      <th>2</th>\n",
       "      <td>0.444510</td>\n",
       "      <td>-0.591219</td>\n",
       "      <td>1.433583</td>\n",
       "      <td>1.177731</td>\n",
       "    </tr>\n",
       "    <tr>\n",
       "      <th>3</th>\n",
       "      <td>-0.891534</td>\n",
       "      <td>0.750393</td>\n",
       "      <td>-0.417772</td>\n",
       "      <td>-0.290286</td>\n",
       "    </tr>\n",
       "    <tr>\n",
       "      <th>4</th>\n",
       "      <td>-0.046737</td>\n",
       "      <td>-0.591219</td>\n",
       "      <td>-0.417772</td>\n",
       "      <td>-0.290286</td>\n",
       "    </tr>\n",
       "    <tr>\n",
       "      <th>...</th>\n",
       "      <td>...</td>\n",
       "      <td>...</td>\n",
       "      <td>...</td>\n",
       "      <td>...</td>\n",
       "    </tr>\n",
       "    <tr>\n",
       "      <th>2237</th>\n",
       "      <td>-0.627302</td>\n",
       "      <td>0.750393</td>\n",
       "      <td>2.349199</td>\n",
       "      <td>5.092444</td>\n",
       "    </tr>\n",
       "    <tr>\n",
       "      <th>2238</th>\n",
       "      <td>-0.567757</td>\n",
       "      <td>-0.591219</td>\n",
       "      <td>-0.417772</td>\n",
       "      <td>-0.290286</td>\n",
       "    </tr>\n",
       "    <tr>\n",
       "      <th>2239</th>\n",
       "      <td>-0.288639</td>\n",
       "      <td>-0.255816</td>\n",
       "      <td>-0.417772</td>\n",
       "      <td>-0.290286</td>\n",
       "    </tr>\n",
       "    <tr>\n",
       "      <th>2240</th>\n",
       "      <td>-0.742671</td>\n",
       "      <td>-0.591219</td>\n",
       "      <td>-0.417772</td>\n",
       "      <td>-0.290286</td>\n",
       "    </tr>\n",
       "    <tr>\n",
       "      <th>2241</th>\n",
       "      <td>-0.631024</td>\n",
       "      <td>-0.591219</td>\n",
       "      <td>0.507905</td>\n",
       "      <td>4.113766</td>\n",
       "    </tr>\n",
       "  </tbody>\n",
       "</table>\n",
       "<p>2242 rows × 4 columns</p>\n",
       "</div>"
      ],
      "text/plain": [
       "      duration  campaign     pdays  previous\n",
       "0    -0.560314  2.092004 -0.417772 -0.290286\n",
       "1    -0.310969  4.439824 -0.417772 -0.290286\n",
       "2     0.444510 -0.591219  1.433583  1.177731\n",
       "3    -0.891534  0.750393 -0.417772 -0.290286\n",
       "4    -0.046737 -0.591219 -0.417772 -0.290286\n",
       "...        ...       ...       ...       ...\n",
       "2237 -0.627302  0.750393  2.349199  5.092444\n",
       "2238 -0.567757 -0.591219 -0.417772 -0.290286\n",
       "2239 -0.288639 -0.255816 -0.417772 -0.290286\n",
       "2240 -0.742671 -0.591219 -0.417772 -0.290286\n",
       "2241 -0.631024 -0.591219  0.507905  4.113766\n",
       "\n",
       "[2242 rows x 4 columns]"
      ]
     },
     "execution_count": 4,
     "metadata": {},
     "output_type": "execute_result"
    }
   ],
   "source": [
    "\n",
    "cluster"
   ]
  },
  {
   "cell_type": "code",
   "execution_count": null,
   "metadata": {},
   "outputs": [],
   "source": [
    "# We have created new dataset called bank_cleans.csv for this HW"
   ]
  },
  {
   "cell_type": "code",
   "execution_count": 5,
   "metadata": {},
   "outputs": [
    {
     "data": {
      "text/plain": [
       "KMeans(n_clusters=3)"
      ]
     },
     "execution_count": 5,
     "metadata": {},
     "output_type": "execute_result"
    }
   ],
   "source": [
    "km=KMeans(n_clusters=3)\n",
    "km"
   ]
  },
  {
   "cell_type": "code",
   "execution_count": 6,
   "metadata": {},
   "outputs": [
    {
     "data": {
      "text/plain": [
       "array([0, 0, 2, ..., 1, 1, 2])"
      ]
     },
     "execution_count": 6,
     "metadata": {},
     "output_type": "execute_result"
    }
   ],
   "source": [
    "predict=km.fit_predict(cluster)\n",
    "predict"
   ]
  },
  {
   "cell_type": "code",
   "execution_count": 7,
   "metadata": {},
   "outputs": [
    {
     "name": "stderr",
     "output_type": "stream",
     "text": [
      "C:\\Users\\Checkout\\AppData\\Local\\Temp/ipykernel_9224/1769613125.py:1: SettingWithCopyWarning: \n",
      "A value is trying to be set on a copy of a slice from a DataFrame.\n",
      "Try using .loc[row_indexer,col_indexer] = value instead\n",
      "\n",
      "See the caveats in the documentation: https://pandas.pydata.org/pandas-docs/stable/user_guide/indexing.html#returning-a-view-versus-a-copy\n",
      "  cluster[\"clust\"]=predict\n"
     ]
    },
    {
     "data": {
      "text/html": [
       "<div>\n",
       "<style scoped>\n",
       "    .dataframe tbody tr th:only-of-type {\n",
       "        vertical-align: middle;\n",
       "    }\n",
       "\n",
       "    .dataframe tbody tr th {\n",
       "        vertical-align: top;\n",
       "    }\n",
       "\n",
       "    .dataframe thead th {\n",
       "        text-align: right;\n",
       "    }\n",
       "</style>\n",
       "<table border=\"1\" class=\"dataframe\">\n",
       "  <thead>\n",
       "    <tr style=\"text-align: right;\">\n",
       "      <th></th>\n",
       "      <th>duration</th>\n",
       "      <th>campaign</th>\n",
       "      <th>pdays</th>\n",
       "      <th>previous</th>\n",
       "      <th>clust</th>\n",
       "    </tr>\n",
       "  </thead>\n",
       "  <tbody>\n",
       "    <tr>\n",
       "      <th>0</th>\n",
       "      <td>-0.560314</td>\n",
       "      <td>2.092004</td>\n",
       "      <td>-0.417772</td>\n",
       "      <td>-0.290286</td>\n",
       "      <td>0</td>\n",
       "    </tr>\n",
       "    <tr>\n",
       "      <th>1</th>\n",
       "      <td>-0.310969</td>\n",
       "      <td>4.439824</td>\n",
       "      <td>-0.417772</td>\n",
       "      <td>-0.290286</td>\n",
       "      <td>0</td>\n",
       "    </tr>\n",
       "    <tr>\n",
       "      <th>2</th>\n",
       "      <td>0.444510</td>\n",
       "      <td>-0.591219</td>\n",
       "      <td>1.433583</td>\n",
       "      <td>1.177731</td>\n",
       "      <td>2</td>\n",
       "    </tr>\n",
       "    <tr>\n",
       "      <th>3</th>\n",
       "      <td>-0.891534</td>\n",
       "      <td>0.750393</td>\n",
       "      <td>-0.417772</td>\n",
       "      <td>-0.290286</td>\n",
       "      <td>1</td>\n",
       "    </tr>\n",
       "    <tr>\n",
       "      <th>4</th>\n",
       "      <td>-0.046737</td>\n",
       "      <td>-0.591219</td>\n",
       "      <td>-0.417772</td>\n",
       "      <td>-0.290286</td>\n",
       "      <td>1</td>\n",
       "    </tr>\n",
       "    <tr>\n",
       "      <th>...</th>\n",
       "      <td>...</td>\n",
       "      <td>...</td>\n",
       "      <td>...</td>\n",
       "      <td>...</td>\n",
       "      <td>...</td>\n",
       "    </tr>\n",
       "    <tr>\n",
       "      <th>2237</th>\n",
       "      <td>-0.627302</td>\n",
       "      <td>0.750393</td>\n",
       "      <td>2.349199</td>\n",
       "      <td>5.092444</td>\n",
       "      <td>2</td>\n",
       "    </tr>\n",
       "    <tr>\n",
       "      <th>2238</th>\n",
       "      <td>-0.567757</td>\n",
       "      <td>-0.591219</td>\n",
       "      <td>-0.417772</td>\n",
       "      <td>-0.290286</td>\n",
       "      <td>1</td>\n",
       "    </tr>\n",
       "    <tr>\n",
       "      <th>2239</th>\n",
       "      <td>-0.288639</td>\n",
       "      <td>-0.255816</td>\n",
       "      <td>-0.417772</td>\n",
       "      <td>-0.290286</td>\n",
       "      <td>1</td>\n",
       "    </tr>\n",
       "    <tr>\n",
       "      <th>2240</th>\n",
       "      <td>-0.742671</td>\n",
       "      <td>-0.591219</td>\n",
       "      <td>-0.417772</td>\n",
       "      <td>-0.290286</td>\n",
       "      <td>1</td>\n",
       "    </tr>\n",
       "    <tr>\n",
       "      <th>2241</th>\n",
       "      <td>-0.631024</td>\n",
       "      <td>-0.591219</td>\n",
       "      <td>0.507905</td>\n",
       "      <td>4.113766</td>\n",
       "      <td>2</td>\n",
       "    </tr>\n",
       "  </tbody>\n",
       "</table>\n",
       "<p>2242 rows × 5 columns</p>\n",
       "</div>"
      ],
      "text/plain": [
       "      duration  campaign     pdays  previous  clust\n",
       "0    -0.560314  2.092004 -0.417772 -0.290286      0\n",
       "1    -0.310969  4.439824 -0.417772 -0.290286      0\n",
       "2     0.444510 -0.591219  1.433583  1.177731      2\n",
       "3    -0.891534  0.750393 -0.417772 -0.290286      1\n",
       "4    -0.046737 -0.591219 -0.417772 -0.290286      1\n",
       "...        ...       ...       ...       ...    ...\n",
       "2237 -0.627302  0.750393  2.349199  5.092444      2\n",
       "2238 -0.567757 -0.591219 -0.417772 -0.290286      1\n",
       "2239 -0.288639 -0.255816 -0.417772 -0.290286      1\n",
       "2240 -0.742671 -0.591219 -0.417772 -0.290286      1\n",
       "2241 -0.631024 -0.591219  0.507905  4.113766      2\n",
       "\n",
       "[2242 rows x 5 columns]"
      ]
     },
     "execution_count": 7,
     "metadata": {},
     "output_type": "execute_result"
    }
   ],
   "source": [
    "cluster[\"clust\"]=predict\n",
    "cluster"
   ]
  },
  {
   "cell_type": "markdown",
   "metadata": {
    "id": "BMVdgyBiblFg"
   },
   "source": [
    "[HP1] Use the elbow method to select the best value of k for this dataset and plot your results. "
   ]
  },
  {
   "cell_type": "code",
   "execution_count": 8,
   "metadata": {
    "id": "2mossVbUbt6z"
   },
   "outputs": [],
   "source": [
    "# Your code for HP1 goes here\n",
    "# Feel free to add cells below this for HP1\n",
    "\n",
    "k_range=range(1,10)\n",
    "sse=[]\n",
    "for k in k_range:\n",
    "    km=KMeans(n_clusters=k)\n",
    "    km.fit(cluster)\n",
    "    sse.append(km.inertia_)"
   ]
  },
  {
   "cell_type": "code",
   "execution_count": 9,
   "metadata": {},
   "outputs": [
    {
     "data": {
      "text/plain": [
       "[9388.735057983946,\n",
       " 6404.392149427038,\n",
       " 5010.655836659976,\n",
       " 3797.1039799583336,\n",
       " 2930.1739390663715,\n",
       " 2581.9936677829164,\n",
       " 2299.9544827241284,\n",
       " 2046.0994688365683,\n",
       " 1826.9625925483795]"
      ]
     },
     "execution_count": 9,
     "metadata": {},
     "output_type": "execute_result"
    }
   ],
   "source": [
    "sse"
   ]
  },
  {
   "cell_type": "code",
   "execution_count": 10,
   "metadata": {},
   "outputs": [
    {
     "data": {
      "text/plain": [
       "[<matplotlib.lines.Line2D at 0x1a62eed3c40>]"
      ]
     },
     "execution_count": 10,
     "metadata": {},
     "output_type": "execute_result"
    },
    {
     "data": {
      "image/png": "[encoded data removed]",
      "text/plain": [
       "<Figure size 432x288 with 1 Axes>"
      ]
     },
     "metadata": {
      "needs_background": "light"
     },
     "output_type": "display_data"
    }
   ],
   "source": [
    "plt.xlabel('k')\n",
    "plt.ylabel('sum of squared error')\n",
    "plt.plot(k_range,sse)"
   ]
  },
  {
   "cell_type": "code",
   "execution_count": 12,
   "metadata": {},
   "outputs": [],
   "source": [
    "\n",
    "#As it can be seen above elbow is formed when k=5. So, we can say that it is the best value for our k.\n"
   ]
  },
  {
   "cell_type": "markdown",
   "metadata": {
    "id": "k-LXSIMuaIqI"
   },
   "source": [
    "[LP2] \n",
    "1. Perform Principal Component Analysis (PCA) on the filtered dataset and extract the top two principal components. \n",
    "2. Plot the principal components in a graph using appropriate labels on the x and y axes.\n"
   ]
  },
  {
   "cell_type": "code",
   "execution_count": 13,
   "metadata": {
    "id": "Gl7LjuEwY1sy"
   },
   "outputs": [],
   "source": [
    "# Your code for LP2 goes here\n",
    "# Feel free to add cells below this for LP2\n",
    "from sklearn.decomposition import PCA"
   ]
  },
  {
   "cell_type": "code",
   "execution_count": 14,
   "metadata": {},
   "outputs": [],
   "source": [
    "pca=PCA(n_components=2)"
   ]
  },
  {
   "cell_type": "code",
   "execution_count": 15,
   "metadata": {},
   "outputs": [
    {
     "data": {
      "text/plain": [
       "PCA(n_components=2)"
      ]
     },
     "execution_count": 15,
     "metadata": {},
     "output_type": "execute_result"
    }
   ],
   "source": [
    "pca.fit(cluster)"
   ]
  },
  {
   "cell_type": "code",
   "execution_count": 16,
   "metadata": {},
   "outputs": [],
   "source": [
    "pca_data=pca.transform(cluster)"
   ]
  },
  {
   "cell_type": "code",
   "execution_count": 17,
   "metadata": {},
   "outputs": [
    {
     "data": {
      "text/plain": [
       "(2242, 5)"
      ]
     },
     "execution_count": 17,
     "metadata": {},
     "output_type": "execute_result"
    }
   ],
   "source": [
    "cluster.shape"
   ]
  },
  {
   "cell_type": "code",
   "execution_count": 18,
   "metadata": {},
   "outputs": [
    {
     "data": {
      "text/plain": [
       "array([[-1.35208369,  1.6847067 ],\n",
       "       [-1.93447989,  3.00287384],\n",
       "       [ 2.14151558, -0.30496017],\n",
       "       ...,\n",
       "       [-0.44672851, -0.06692642],\n",
       "       [-0.38944835,  0.04890735],\n",
       "       [ 3.30278591,  0.91656327]])"
      ]
     },
     "execution_count": 18,
     "metadata": {},
     "output_type": "execute_result"
    }
   ],
   "source": [
    "pca_data"
   ]
  },
  {
   "cell_type": "code",
   "execution_count": 19,
   "metadata": {},
   "outputs": [],
   "source": [
    "import matplotlib.pyplot as plt\n",
    "import pandas as pd\n",
    "import numpy as np\n",
    "import seaborn as sns\n",
    "%matplotlib inline"
   ]
  },
  {
   "cell_type": "code",
   "execution_count": 20,
   "metadata": {},
   "outputs": [
    {
     "data": {
      "text/plain": [
       "Text(0, 0.5, 'Second Principal Component')"
      ]
     },
     "execution_count": 20,
     "metadata": {},
     "output_type": "execute_result"
    },
    {
     "data": {
      "image/png": "[encoded data removed]",
      "text/plain": [
       "<Figure size 576x432 with 1 Axes>"
      ]
     },
     "metadata": {
      "needs_background": "light"
     },
     "output_type": "display_data"
    }
   ],
   "source": [
    "plt.figure(figsize=(8,6))\n",
    "plt.scatter(pca_data[:,0],pca_data[:,1])\n",
    "plt.xlabel(\"First Principal Component\")\n",
    "plt.ylabel(\"Second Principal Component\")"
   ]
  },
  {
   "cell_type": "markdown",
   "metadata": {
    "id": "Tcgkb1cVb44n"
   },
   "source": [
    "[HP2]\n",
    "Did we lose information by picking only the top two principal components? How much information from the four columns in the filtered components are captured in the the two top principal components? Explain your thoughts briefly."
   ]
  },
  {
   "cell_type": "code",
   "execution_count": 21,
   "metadata": {
    "id": "5dE5r-Rdcgkt"
   },
   "outputs": [
    {
     "data": {
      "text/plain": [
       "array([0.39499258, 0.25080319])"
      ]
     },
     "execution_count": 21,
     "metadata": {},
     "output_type": "execute_result"
    }
   ],
   "source": [
    "# Your code for HP2 goes here\n",
    "# Feel free to add cells below this for HP2\n",
    "pca.explained_variance_ratio_"
   ]
  },
  {
   "cell_type": "code",
   "execution_count": null,
   "metadata": {},
   "outputs": [],
   "source": [
    "\"\"\"\n",
    "39.5% of original data's variance can be seen in principal component 1\n",
    "25.1% of original data's variance can be seen in principal component 2\n",
    "\"\"\""
   ]
  },
  {
   "cell_type": "code",
   "execution_count": null,
   "metadata": {},
   "outputs": [],
   "source": [
    "\"\"\"\n",
    "The answer is YES we lost some information by choosing only the top two principal components.\n",
    "We preserved aroud 66% of variation of the original data. However, we lost 35.4% of variance after we applied principal\n",
    "component analysis.\n",
    "By increasing the number of components, we can decrease variance.\n",
    "\"\"\""
   ]
  },
  {
   "cell_type": "markdown",
   "metadata": {
    "id": "8ESy_f68ciUo"
   },
   "source": [
    "< Your answer for HP2 goes here >"
   ]
  },
  {
   "cell_type": "markdown",
   "metadata": {
    "id": "OsHDpghuc5RT"
   },
   "source": [
    "# References\n",
    "Include ALL your references here. \n",
    "\n",
    "#CMPE 255 class Recordings\n",
    "\n",
    "#https://www.kaggle.com/code/shrutimechlearn/step-by-step-kmeans-explained-in-detail/notebook.Concepts of K-means clustering\n",
    "\n",
    "#https://www.kaggle.com/code/ryanholbrook/clustering-with-k-means/tutorial. Learned to code from this Kaggle website\n",
    "\n",
    "# What to turn in:\n",
    "1. The ipynb solution file, which includes the references\n",
    "2. If you use Colab or GitHub for version control, please share a link to your notebook or GitHub repository\n",
    "3. The bank_clean.csv file"
   ]
  }
 ],
 "metadata": {
  "colab": {
   "collapsed_sections": [],
   "name": "HW 2 Part 1 - Clustering.ipynb",
   "provenance": []
  },
  "kernelspec": {
   "display_name": "Python 3 (ipykernel)",
   "language": "python",
   "name": "python3"
  },
  "language_info": {
   "codemirror_mode": {
    "name": "ipython",
    "version": 3
   },
   "file_extension": ".py",
   "mimetype": "text/x-python",
   "name": "python",
   "nbconvert_exporter": "python",
   "pygments_lexer": "ipython3",
   "version": "3.9.7"
  }
 },
 "nbformat": 4,
 "nbformat_minor": 1
}
