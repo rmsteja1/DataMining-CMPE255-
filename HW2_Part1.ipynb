{
  "nbformat": 4,
  "nbformat_minor": 0,
  "metadata": {
    "colab": {
      "name": "Untitled0.ipynb",
      "provenance": [],
      "collapsed_sections": []
    },
    "kernelspec": {
      "name": "python3",
      "display_name": "Python 3"
    },
    "language_info": {
      "name": "python"
    }
  },
  "cells": [
    {
      "cell_type": "code",
      "execution_count": 19,
      "metadata": {
        "colab": {
          "base_uri": "https://localhost:8080/",
          "height": 505
        },
        "id": "80-8L1HMP7NL",
        "outputId": "d3c82572-ebc8-47d2-9719-4c74352ceb39"
      },
      "outputs": [
        {
          "output_type": "execute_result",
          "data": {
            "text/plain": [
              "      Unnamed: 0       age  marital  default   balance  housing  loan  \\\n",
              "0              0  0.451613        0        1 -0.518096        0     0   \n",
              "1              1  0.370968        0        1 -0.417386        1     1   \n",
              "2              2  0.096774        1        1 -0.368150        1     1   \n",
              "3              3  0.483871        0        1 -0.332022        1     1   \n",
              "4              4  0.096774        1        1 -0.488043        0     1   \n",
              "...          ...       ...      ...      ...       ...      ...   ...   \n",
              "2237        2246  0.161290        1        1 -0.331063        0     1   \n",
              "2238        2247  0.580645        0        1  0.685634        1     1   \n",
              "2239        2248  0.193548        1        1 -0.417386        0     1   \n",
              "2240        2249  0.483871        0        1  0.431460        1     1   \n",
              "2241        2250  0.290323        0        1  0.537606        0     1   \n",
              "\n",
              "      contact       day  month  ...  management  retired  selfemployed  \\\n",
              "0           1  0.866667      0  ...           1        0             0   \n",
              "1           1  0.833333      0  ...           1        0             0   \n",
              "2           1  0.033333      1  ...           0        0             0   \n",
              "3           0  0.266667      0  ...           0        0             0   \n",
              "4           1  0.733333      0  ...           0        0             0   \n",
              "...       ...       ...    ...  ...         ...      ...           ...   \n",
              "2237        1  0.466667      1  ...           0        0             1   \n",
              "2238        1  0.333333      0  ...           0        0             0   \n",
              "2239        1  0.466667      0  ...           1        0             0   \n",
              "2240        1  0.533333      0  ...           0        0             0   \n",
              "2241        1  0.466667      0  ...           1        0             0   \n",
              "\n",
              "      services  student technician  unemployed  primary  secondary  tertiary  \n",
              "0            0        0          0           0        0          0         1  \n",
              "1            0        0          0           0        0          0         1  \n",
              "2            0        1          0           0        0          1         0  \n",
              "3            0        0          0           0        0          1         0  \n",
              "4            0        0          0           0        1          0         0  \n",
              "...        ...      ...        ...         ...      ...        ...       ...  \n",
              "2237         0        0          0           0        0          0         1  \n",
              "2238         0        0          1           0        0          1         0  \n",
              "2239         0        0          0           0        0          0         1  \n",
              "2240         0        0          0           0        0          1         0  \n",
              "2241         0        0          0           0        0          0         1  \n",
              "\n",
              "[2242 rows x 30 columns]"
            ],
            "text/html": [
              "\n",
              "  <div id=\"df-e727f8c3-9572-4eea-bfc6-aa72aa3f9510\">\n",
              "    <div class=\"colab-df-container\">\n",
              "      <div>\n",
              "<style scoped>\n",
              "    .dataframe tbody tr th:only-of-type {\n",
              "        vertical-align: middle;\n",
              "    }\n",
              "\n",
              "    .dataframe tbody tr th {\n",
              "        vertical-align: top;\n",
              "    }\n",
              "\n",
              "    .dataframe thead th {\n",
              "        text-align: right;\n",
              "    }\n",
              "</style>\n",
              "<table border=\"1\" class=\"dataframe\">\n",
              "  <thead>\n",
              "    <tr style=\"text-align: right;\">\n",
              "      <th></th>\n",
              "      <th>Unnamed: 0</th>\n",
              "      <th>age</th>\n",
              "      <th>marital</th>\n",
              "      <th>default</th>\n",
              "      <th>balance</th>\n",
              "      <th>housing</th>\n",
              "      <th>loan</th>\n",
              "      <th>contact</th>\n",
              "      <th>day</th>\n",
              "      <th>month</th>\n",
              "      <th>...</th>\n",
              "      <th>management</th>\n",
              "      <th>retired</th>\n",
              "      <th>selfemployed</th>\n",
              "      <th>services</th>\n",
              "      <th>student</th>\n",
              "      <th>technician</th>\n",
              "      <th>unemployed</th>\n",
              "      <th>primary</th>\n",
              "      <th>secondary</th>\n",
              "      <th>tertiary</th>\n",
              "    </tr>\n",
              "  </thead>\n",
              "  <tbody>\n",
              "    <tr>\n",
              "      <th>0</th>\n",
              "      <td>0</td>\n",
              "      <td>0.451613</td>\n",
              "      <td>0</td>\n",
              "      <td>1</td>\n",
              "      <td>-0.518096</td>\n",
              "      <td>0</td>\n",
              "      <td>0</td>\n",
              "      <td>1</td>\n",
              "      <td>0.866667</td>\n",
              "      <td>0</td>\n",
              "      <td>...</td>\n",
              "      <td>1</td>\n",
              "      <td>0</td>\n",
              "      <td>0</td>\n",
              "      <td>0</td>\n",
              "      <td>0</td>\n",
              "      <td>0</td>\n",
              "      <td>0</td>\n",
              "      <td>0</td>\n",
              "      <td>0</td>\n",
              "      <td>1</td>\n",
              "    </tr>\n",
              "    <tr>\n",
              "      <th>1</th>\n",
              "      <td>1</td>\n",
              "      <td>0.370968</td>\n",
              "      <td>0</td>\n",
              "      <td>1</td>\n",
              "      <td>-0.417386</td>\n",
              "      <td>1</td>\n",
              "      <td>1</td>\n",
              "      <td>1</td>\n",
              "      <td>0.833333</td>\n",
              "      <td>0</td>\n",
              "      <td>...</td>\n",
              "      <td>1</td>\n",
              "      <td>0</td>\n",
              "      <td>0</td>\n",
              "      <td>0</td>\n",
              "      <td>0</td>\n",
              "      <td>0</td>\n",
              "      <td>0</td>\n",
              "      <td>0</td>\n",
              "      <td>0</td>\n",
              "      <td>1</td>\n",
              "    </tr>\n",
              "    <tr>\n",
              "      <th>2</th>\n",
              "      <td>2</td>\n",
              "      <td>0.096774</td>\n",
              "      <td>1</td>\n",
              "      <td>1</td>\n",
              "      <td>-0.368150</td>\n",
              "      <td>1</td>\n",
              "      <td>1</td>\n",
              "      <td>1</td>\n",
              "      <td>0.033333</td>\n",
              "      <td>1</td>\n",
              "      <td>...</td>\n",
              "      <td>0</td>\n",
              "      <td>0</td>\n",
              "      <td>0</td>\n",
              "      <td>0</td>\n",
              "      <td>1</td>\n",
              "      <td>0</td>\n",
              "      <td>0</td>\n",
              "      <td>0</td>\n",
              "      <td>1</td>\n",
              "      <td>0</td>\n",
              "    </tr>\n",
              "    <tr>\n",
              "      <th>3</th>\n",
              "      <td>3</td>\n",
              "      <td>0.483871</td>\n",
              "      <td>0</td>\n",
              "      <td>1</td>\n",
              "      <td>-0.332022</td>\n",
              "      <td>1</td>\n",
              "      <td>1</td>\n",
              "      <td>0</td>\n",
              "      <td>0.266667</td>\n",
              "      <td>0</td>\n",
              "      <td>...</td>\n",
              "      <td>0</td>\n",
              "      <td>0</td>\n",
              "      <td>0</td>\n",
              "      <td>0</td>\n",
              "      <td>0</td>\n",
              "      <td>0</td>\n",
              "      <td>0</td>\n",
              "      <td>0</td>\n",
              "      <td>1</td>\n",
              "      <td>0</td>\n",
              "    </tr>\n",
              "    <tr>\n",
              "      <th>4</th>\n",
              "      <td>4</td>\n",
              "      <td>0.096774</td>\n",
              "      <td>1</td>\n",
              "      <td>1</td>\n",
              "      <td>-0.488043</td>\n",
              "      <td>0</td>\n",
              "      <td>1</td>\n",
              "      <td>1</td>\n",
              "      <td>0.733333</td>\n",
              "      <td>0</td>\n",
              "      <td>...</td>\n",
              "      <td>0</td>\n",
              "      <td>0</td>\n",
              "      <td>0</td>\n",
              "      <td>0</td>\n",
              "      <td>0</td>\n",
              "      <td>0</td>\n",
              "      <td>0</td>\n",
              "      <td>1</td>\n",
              "      <td>0</td>\n",
              "      <td>0</td>\n",
              "    </tr>\n",
              "    <tr>\n",
              "      <th>...</th>\n",
              "      <td>...</td>\n",
              "      <td>...</td>\n",
              "      <td>...</td>\n",
              "      <td>...</td>\n",
              "      <td>...</td>\n",
              "      <td>...</td>\n",
              "      <td>...</td>\n",
              "      <td>...</td>\n",
              "      <td>...</td>\n",
              "      <td>...</td>\n",
              "      <td>...</td>\n",
              "      <td>...</td>\n",
              "      <td>...</td>\n",
              "      <td>...</td>\n",
              "      <td>...</td>\n",
              "      <td>...</td>\n",
              "      <td>...</td>\n",
              "      <td>...</td>\n",
              "      <td>...</td>\n",
              "      <td>...</td>\n",
              "      <td>...</td>\n",
              "    </tr>\n",
              "    <tr>\n",
              "      <th>2237</th>\n",
              "      <td>2246</td>\n",
              "      <td>0.161290</td>\n",
              "      <td>1</td>\n",
              "      <td>1</td>\n",
              "      <td>-0.331063</td>\n",
              "      <td>0</td>\n",
              "      <td>1</td>\n",
              "      <td>1</td>\n",
              "      <td>0.466667</td>\n",
              "      <td>1</td>\n",
              "      <td>...</td>\n",
              "      <td>0</td>\n",
              "      <td>0</td>\n",
              "      <td>1</td>\n",
              "      <td>0</td>\n",
              "      <td>0</td>\n",
              "      <td>0</td>\n",
              "      <td>0</td>\n",
              "      <td>0</td>\n",
              "      <td>0</td>\n",
              "      <td>1</td>\n",
              "    </tr>\n",
              "    <tr>\n",
              "      <th>2238</th>\n",
              "      <td>2247</td>\n",
              "      <td>0.580645</td>\n",
              "      <td>0</td>\n",
              "      <td>1</td>\n",
              "      <td>0.685634</td>\n",
              "      <td>1</td>\n",
              "      <td>1</td>\n",
              "      <td>1</td>\n",
              "      <td>0.333333</td>\n",
              "      <td>0</td>\n",
              "      <td>...</td>\n",
              "      <td>0</td>\n",
              "      <td>0</td>\n",
              "      <td>0</td>\n",
              "      <td>0</td>\n",
              "      <td>0</td>\n",
              "      <td>1</td>\n",
              "      <td>0</td>\n",
              "      <td>0</td>\n",
              "      <td>1</td>\n",
              "      <td>0</td>\n",
              "    </tr>\n",
              "    <tr>\n",
              "      <th>2239</th>\n",
              "      <td>2248</td>\n",
              "      <td>0.193548</td>\n",
              "      <td>1</td>\n",
              "      <td>1</td>\n",
              "      <td>-0.417386</td>\n",
              "      <td>0</td>\n",
              "      <td>1</td>\n",
              "      <td>1</td>\n",
              "      <td>0.466667</td>\n",
              "      <td>0</td>\n",
              "      <td>...</td>\n",
              "      <td>1</td>\n",
              "      <td>0</td>\n",
              "      <td>0</td>\n",
              "      <td>0</td>\n",
              "      <td>0</td>\n",
              "      <td>0</td>\n",
              "      <td>0</td>\n",
              "      <td>0</td>\n",
              "      <td>0</td>\n",
              "      <td>1</td>\n",
              "    </tr>\n",
              "    <tr>\n",
              "      <th>2240</th>\n",
              "      <td>2249</td>\n",
              "      <td>0.483871</td>\n",
              "      <td>0</td>\n",
              "      <td>1</td>\n",
              "      <td>0.431460</td>\n",
              "      <td>1</td>\n",
              "      <td>1</td>\n",
              "      <td>1</td>\n",
              "      <td>0.533333</td>\n",
              "      <td>0</td>\n",
              "      <td>...</td>\n",
              "      <td>0</td>\n",
              "      <td>0</td>\n",
              "      <td>0</td>\n",
              "      <td>0</td>\n",
              "      <td>0</td>\n",
              "      <td>0</td>\n",
              "      <td>0</td>\n",
              "      <td>0</td>\n",
              "      <td>1</td>\n",
              "      <td>0</td>\n",
              "    </tr>\n",
              "    <tr>\n",
              "      <th>2241</th>\n",
              "      <td>2250</td>\n",
              "      <td>0.290323</td>\n",
              "      <td>0</td>\n",
              "      <td>1</td>\n",
              "      <td>0.537606</td>\n",
              "      <td>0</td>\n",
              "      <td>1</td>\n",
              "      <td>1</td>\n",
              "      <td>0.466667</td>\n",
              "      <td>0</td>\n",
              "      <td>...</td>\n",
              "      <td>1</td>\n",
              "      <td>0</td>\n",
              "      <td>0</td>\n",
              "      <td>0</td>\n",
              "      <td>0</td>\n",
              "      <td>0</td>\n",
              "      <td>0</td>\n",
              "      <td>0</td>\n",
              "      <td>0</td>\n",
              "      <td>1</td>\n",
              "    </tr>\n",
              "  </tbody>\n",
              "</table>\n",
              "<p>2242 rows × 30 columns</p>\n",
              "</div>\n",
              "      <button class=\"colab-df-convert\" onclick=\"convertToInteractive('df-e727f8c3-9572-4eea-bfc6-aa72aa3f9510')\"\n",
              "              title=\"Convert this dataframe to an interactive table.\"\n",
              "              style=\"display:none;\">\n",
              "        \n",
              "  <svg xmlns=\"http://www.w3.org/2000/svg\" height=\"24px\"viewBox=\"0 0 24 24\"\n",
              "       width=\"24px\">\n",
              "    <path d=\"M0 0h24v24H0V0z\" fill=\"none\"/>\n",
              "    <path d=\"M18.56 5.44l.94 2.06.94-2.06 2.06-.94-2.06-.94-.94-2.06-.94 2.06-2.06.94zm-11 1L8.5 8.5l.94-2.06 2.06-.94-2.06-.94L8.5 2.5l-.94 2.06-2.06.94zm10 10l.94 2.06.94-2.06 2.06-.94-2.06-.94-.94-2.06-.94 2.06-2.06.94z\"/><path d=\"M17.41 7.96l-1.37-1.37c-.4-.4-.92-.59-1.43-.59-.52 0-1.04.2-1.43.59L10.3 9.45l-7.72 7.72c-.78.78-.78 2.05 0 2.83L4 21.41c.39.39.9.59 1.41.59.51 0 1.02-.2 1.41-.59l7.78-7.78 2.81-2.81c.8-.78.8-2.07 0-2.86zM5.41 20L4 18.59l7.72-7.72 1.47 1.35L5.41 20z\"/>\n",
              "  </svg>\n",
              "      </button>\n",
              "      \n",
              "  <style>\n",
              "    .colab-df-container {\n",
              "      display:flex;\n",
              "      flex-wrap:wrap;\n",
              "      gap: 12px;\n",
              "    }\n",
              "\n",
              "    .colab-df-convert {\n",
              "      background-color: #E8F0FE;\n",
              "      border: none;\n",
              "      border-radius: 50%;\n",
              "      cursor: pointer;\n",
              "      display: none;\n",
              "      fill: #1967D2;\n",
              "      height: 32px;\n",
              "      padding: 0 0 0 0;\n",
              "      width: 32px;\n",
              "    }\n",
              "\n",
              "    .colab-df-convert:hover {\n",
              "      background-color: #E2EBFA;\n",
              "      box-shadow: 0px 1px 2px rgba(60, 64, 67, 0.3), 0px 1px 3px 1px rgba(60, 64, 67, 0.15);\n",
              "      fill: #174EA6;\n",
              "    }\n",
              "\n",
              "    [theme=dark] .colab-df-convert {\n",
              "      background-color: #3B4455;\n",
              "      fill: #D2E3FC;\n",
              "    }\n",
              "\n",
              "    [theme=dark] .colab-df-convert:hover {\n",
              "      background-color: #434B5C;\n",
              "      box-shadow: 0px 1px 3px 1px rgba(0, 0, 0, 0.15);\n",
              "      filter: drop-shadow(0px 1px 2px rgba(0, 0, 0, 0.3));\n",
              "      fill: #FFFFFF;\n",
              "    }\n",
              "  </style>\n",
              "\n",
              "      <script>\n",
              "        const buttonEl =\n",
              "          document.querySelector('#df-e727f8c3-9572-4eea-bfc6-aa72aa3f9510 button.colab-df-convert');\n",
              "        buttonEl.style.display =\n",
              "          google.colab.kernel.accessAllowed ? 'block' : 'none';\n",
              "\n",
              "        async function convertToInteractive(key) {\n",
              "          const element = document.querySelector('#df-e727f8c3-9572-4eea-bfc6-aa72aa3f9510');\n",
              "          const dataTable =\n",
              "            await google.colab.kernel.invokeFunction('convertToInteractive',\n",
              "                                                     [key], {});\n",
              "          if (!dataTable) return;\n",
              "\n",
              "          const docLinkHtml = 'Like what you see? Visit the ' +\n",
              "            '<a target=\"_blank\" href=https://colab.research.google.com/notebooks/data_table.ipynb>data table notebook</a>'\n",
              "            + ' to learn more about interactive tables.';\n",
              "          element.innerHTML = '';\n",
              "          dataTable['output_type'] = 'display_data';\n",
              "          await google.colab.output.renderOutput(dataTable, element);\n",
              "          const docLink = document.createElement('div');\n",
              "          docLink.innerHTML = docLinkHtml;\n",
              "          element.appendChild(docLink);\n",
              "        }\n",
              "      </script>\n",
              "    </div>\n",
              "  </div>\n",
              "  "
            ]
          },
          "metadata": {},
          "execution_count": 19
        }
      ],
      "source": [
        "# Your code for LP1 goes here\n",
        "# Feel free to add cells below this for LP1\n",
        "# Your code for LP1 goes here\n",
        "import pandas as pd\n",
        "import numpy as np\n",
        "bankDataFrame=pd.read_csv('bank_clean.csv')\n",
        "bankDataFrame"
      ]
    },
    {
      "cell_type": "code",
      "source": [
        "from sklearn.cluster import KMeans\n",
        "from matplotlib import pyplot as plt\n",
        "\n",
        "# Initially scalling is doen on duration column. \n",
        "# After doing z-score normalization the duration values range changed to -1 to 1.\n",
        "# I have cleaned the bank data and worked on it.\n",
        "\n",
        "bankCluster=bankMarketing[[\"duration\",\"campaign\",\"pdays\",\"previous\"]]\n",
        "\n",
        "kmean =KMeans(n_clusters=3)\n",
        "label=kmean.fit_predict(bankCluster)\n",
        "bankCluster[\"predict\"]=label\n",
        "# predict\n",
        "bankCluster"
      ],
      "metadata": {
        "colab": {
          "base_uri": "https://localhost:8080/",
          "height": 528
        },
        "id": "Sjv7dQ49QCuW",
        "outputId": "9912af35-c25f-416b-fbd0-a45dde9f2098"
      },
      "execution_count": 20,
      "outputs": [
        {
          "output_type": "stream",
          "name": "stderr",
          "text": [
            "/usr/local/lib/python3.7/dist-packages/ipykernel_launcher.py:12: SettingWithCopyWarning: \n",
            "A value is trying to be set on a copy of a slice from a DataFrame.\n",
            "Try using .loc[row_indexer,col_indexer] = value instead\n",
            "\n",
            "See the caveats in the documentation: https://pandas.pydata.org/pandas-docs/stable/user_guide/indexing.html#returning-a-view-versus-a-copy\n",
            "  if sys.path[0] == '':\n"
          ]
        },
        {
          "output_type": "execute_result",
          "data": {
            "text/plain": [
              "      duration  campaign     pdays  previous  predict\n",
              "0    -0.560314  2.092004 -0.417772 -0.290286        2\n",
              "1    -0.310969  4.439824 -0.417772 -0.290286        2\n",
              "2     0.444510 -0.591219  1.433583  1.177731        1\n",
              "3    -0.891534  0.750393 -0.417772 -0.290286        0\n",
              "4    -0.046737 -0.591219 -0.417772 -0.290286        0\n",
              "...        ...       ...       ...       ...      ...\n",
              "2237 -0.627302  0.750393  2.349199  5.092444        1\n",
              "2238 -0.567757 -0.591219 -0.417772 -0.290286        0\n",
              "2239 -0.288639 -0.255816 -0.417772 -0.290286        0\n",
              "2240 -0.742671 -0.591219 -0.417772 -0.290286        0\n",
              "2241 -0.631024 -0.591219  0.507905  4.113766        1\n",
              "\n",
              "[2242 rows x 5 columns]"
            ],
            "text/html": [
              "\n",
              "  <div id=\"df-d8c56b3f-f7f9-4e04-98c8-7b0641145f9c\">\n",
              "    <div class=\"colab-df-container\">\n",
              "      <div>\n",
              "<style scoped>\n",
              "    .dataframe tbody tr th:only-of-type {\n",
              "        vertical-align: middle;\n",
              "    }\n",
              "\n",
              "    .dataframe tbody tr th {\n",
              "        vertical-align: top;\n",
              "    }\n",
              "\n",
              "    .dataframe thead th {\n",
              "        text-align: right;\n",
              "    }\n",
              "</style>\n",
              "<table border=\"1\" class=\"dataframe\">\n",
              "  <thead>\n",
              "    <tr style=\"text-align: right;\">\n",
              "      <th></th>\n",
              "      <th>duration</th>\n",
              "      <th>campaign</th>\n",
              "      <th>pdays</th>\n",
              "      <th>previous</th>\n",
              "      <th>predict</th>\n",
              "    </tr>\n",
              "  </thead>\n",
              "  <tbody>\n",
              "    <tr>\n",
              "      <th>0</th>\n",
              "      <td>-0.560314</td>\n",
              "      <td>2.092004</td>\n",
              "      <td>-0.417772</td>\n",
              "      <td>-0.290286</td>\n",
              "      <td>2</td>\n",
              "    </tr>\n",
              "    <tr>\n",
              "      <th>1</th>\n",
              "      <td>-0.310969</td>\n",
              "      <td>4.439824</td>\n",
              "      <td>-0.417772</td>\n",
              "      <td>-0.290286</td>\n",
              "      <td>2</td>\n",
              "    </tr>\n",
              "    <tr>\n",
              "      <th>2</th>\n",
              "      <td>0.444510</td>\n",
              "      <td>-0.591219</td>\n",
              "      <td>1.433583</td>\n",
              "      <td>1.177731</td>\n",
              "      <td>1</td>\n",
              "    </tr>\n",
              "    <tr>\n",
              "      <th>3</th>\n",
              "      <td>-0.891534</td>\n",
              "      <td>0.750393</td>\n",
              "      <td>-0.417772</td>\n",
              "      <td>-0.290286</td>\n",
              "      <td>0</td>\n",
              "    </tr>\n",
              "    <tr>\n",
              "      <th>4</th>\n",
              "      <td>-0.046737</td>\n",
              "      <td>-0.591219</td>\n",
              "      <td>-0.417772</td>\n",
              "      <td>-0.290286</td>\n",
              "      <td>0</td>\n",
              "    </tr>\n",
              "    <tr>\n",
              "      <th>...</th>\n",
              "      <td>...</td>\n",
              "      <td>...</td>\n",
              "      <td>...</td>\n",
              "      <td>...</td>\n",
              "      <td>...</td>\n",
              "    </tr>\n",
              "    <tr>\n",
              "      <th>2237</th>\n",
              "      <td>-0.627302</td>\n",
              "      <td>0.750393</td>\n",
              "      <td>2.349199</td>\n",
              "      <td>5.092444</td>\n",
              "      <td>1</td>\n",
              "    </tr>\n",
              "    <tr>\n",
              "      <th>2238</th>\n",
              "      <td>-0.567757</td>\n",
              "      <td>-0.591219</td>\n",
              "      <td>-0.417772</td>\n",
              "      <td>-0.290286</td>\n",
              "      <td>0</td>\n",
              "    </tr>\n",
              "    <tr>\n",
              "      <th>2239</th>\n",
              "      <td>-0.288639</td>\n",
              "      <td>-0.255816</td>\n",
              "      <td>-0.417772</td>\n",
              "      <td>-0.290286</td>\n",
              "      <td>0</td>\n",
              "    </tr>\n",
              "    <tr>\n",
              "      <th>2240</th>\n",
              "      <td>-0.742671</td>\n",
              "      <td>-0.591219</td>\n",
              "      <td>-0.417772</td>\n",
              "      <td>-0.290286</td>\n",
              "      <td>0</td>\n",
              "    </tr>\n",
              "    <tr>\n",
              "      <th>2241</th>\n",
              "      <td>-0.631024</td>\n",
              "      <td>-0.591219</td>\n",
              "      <td>0.507905</td>\n",
              "      <td>4.113766</td>\n",
              "      <td>1</td>\n",
              "    </tr>\n",
              "  </tbody>\n",
              "</table>\n",
              "<p>2242 rows × 5 columns</p>\n",
              "</div>\n",
              "      <button class=\"colab-df-convert\" onclick=\"convertToInteractive('df-d8c56b3f-f7f9-4e04-98c8-7b0641145f9c')\"\n",
              "              title=\"Convert this dataframe to an interactive table.\"\n",
              "              style=\"display:none;\">\n",
              "        \n",
              "  <svg xmlns=\"http://www.w3.org/2000/svg\" height=\"24px\"viewBox=\"0 0 24 24\"\n",
              "       width=\"24px\">\n",
              "    <path d=\"M0 0h24v24H0V0z\" fill=\"none\"/>\n",
              "    <path d=\"M18.56 5.44l.94 2.06.94-2.06 2.06-.94-2.06-.94-.94-2.06-.94 2.06-2.06.94zm-11 1L8.5 8.5l.94-2.06 2.06-.94-2.06-.94L8.5 2.5l-.94 2.06-2.06.94zm10 10l.94 2.06.94-2.06 2.06-.94-2.06-.94-.94-2.06-.94 2.06-2.06.94z\"/><path d=\"M17.41 7.96l-1.37-1.37c-.4-.4-.92-.59-1.43-.59-.52 0-1.04.2-1.43.59L10.3 9.45l-7.72 7.72c-.78.78-.78 2.05 0 2.83L4 21.41c.39.39.9.59 1.41.59.51 0 1.02-.2 1.41-.59l7.78-7.78 2.81-2.81c.8-.78.8-2.07 0-2.86zM5.41 20L4 18.59l7.72-7.72 1.47 1.35L5.41 20z\"/>\n",
              "  </svg>\n",
              "      </button>\n",
              "      \n",
              "  <style>\n",
              "    .colab-df-container {\n",
              "      display:flex;\n",
              "      flex-wrap:wrap;\n",
              "      gap: 12px;\n",
              "    }\n",
              "\n",
              "    .colab-df-convert {\n",
              "      background-color: #E8F0FE;\n",
              "      border: none;\n",
              "      border-radius: 50%;\n",
              "      cursor: pointer;\n",
              "      display: none;\n",
              "      fill: #1967D2;\n",
              "      height: 32px;\n",
              "      padding: 0 0 0 0;\n",
              "      width: 32px;\n",
              "    }\n",
              "\n",
              "    .colab-df-convert:hover {\n",
              "      background-color: #E2EBFA;\n",
              "      box-shadow: 0px 1px 2px rgba(60, 64, 67, 0.3), 0px 1px 3px 1px rgba(60, 64, 67, 0.15);\n",
              "      fill: #174EA6;\n",
              "    }\n",
              "\n",
              "    [theme=dark] .colab-df-convert {\n",
              "      background-color: #3B4455;\n",
              "      fill: #D2E3FC;\n",
              "    }\n",
              "\n",
              "    [theme=dark] .colab-df-convert:hover {\n",
              "      background-color: #434B5C;\n",
              "      box-shadow: 0px 1px 3px 1px rgba(0, 0, 0, 0.15);\n",
              "      filter: drop-shadow(0px 1px 2px rgba(0, 0, 0, 0.3));\n",
              "      fill: #FFFFFF;\n",
              "    }\n",
              "  </style>\n",
              "\n",
              "      <script>\n",
              "        const buttonEl =\n",
              "          document.querySelector('#df-d8c56b3f-f7f9-4e04-98c8-7b0641145f9c button.colab-df-convert');\n",
              "        buttonEl.style.display =\n",
              "          google.colab.kernel.accessAllowed ? 'block' : 'none';\n",
              "\n",
              "        async function convertToInteractive(key) {\n",
              "          const element = document.querySelector('#df-d8c56b3f-f7f9-4e04-98c8-7b0641145f9c');\n",
              "          const dataTable =\n",
              "            await google.colab.kernel.invokeFunction('convertToInteractive',\n",
              "                                                     [key], {});\n",
              "          if (!dataTable) return;\n",
              "\n",
              "          const docLinkHtml = 'Like what you see? Visit the ' +\n",
              "            '<a target=\"_blank\" href=https://colab.research.google.com/notebooks/data_table.ipynb>data table notebook</a>'\n",
              "            + ' to learn more about interactive tables.';\n",
              "          element.innerHTML = '';\n",
              "          dataTable['output_type'] = 'display_data';\n",
              "          await google.colab.output.renderOutput(dataTable, element);\n",
              "          const docLink = document.createElement('div');\n",
              "          docLink.innerHTML = docLinkHtml;\n",
              "          element.appendChild(docLink);\n",
              "        }\n",
              "      </script>\n",
              "    </div>\n",
              "  </div>\n",
              "  "
            ]
          },
          "metadata": {},
          "execution_count": 20
        }
      ]
    },
    {
      "cell_type": "code",
      "source": [
        "#Getting unique labels\n",
        " \n",
        "u_labels = np.unique(label)\n",
        " \n",
        "bankClusterArray = np.array(bankCluster) \n",
        " \n",
        "for i in u_labels:\n",
        "    plt.scatter(bankClusterArray[label == i , 0] , bankClusterArray[label == i , 1] , label = i)\n",
        "plt.legend()\n",
        "plt.show()"
      ],
      "metadata": {
        "colab": {
          "base_uri": "https://localhost:8080/",
          "height": 265
        },
        "id": "2uLBXhvUQzXV",
        "outputId": "c91963b8-91b4-4013-b0fb-8c92d60e3606"
      },
      "execution_count": 21,
      "outputs": [
        {
          "output_type": "display_data",
          "data": {
            "text/plain": [
              "<Figure size 432x288 with 1 Axes>"
            ],
            "image/png": "[encoded data removed]"
          },
          "metadata": {
            "needs_background": "light"
          }
        }
      ]
    },
    {
      "cell_type": "code",
      "source": [
        "# Your code for HP1 goes here\n",
        "# Feel free to add cells below this for HP1\n",
        "kmeans_range=range(1,10)\n",
        "squaredErrorSum=[]\n",
        "for kmeans in kmeans_range:\n",
        "    KMEAN=KMeans(n_clusters=kmeans)\n",
        "    KMEAN.fit(bankCluster)\n",
        "    squaredErrorSum.append(KMEAN.inertia_)"
      ],
      "metadata": {
        "id": "To8auBFFQ9pi"
      },
      "execution_count": 22,
      "outputs": []
    },
    {
      "cell_type": "code",
      "source": [
        "squaredErrorSum"
      ],
      "metadata": {
        "colab": {
          "base_uri": "https://localhost:8080/"
        },
        "id": "KL7uovgwRGpL",
        "outputId": "d0610765-fb19-4ca6-e769-a8792ca10471"
      },
      "execution_count": 23,
      "outputs": [
        {
          "output_type": "execute_result",
          "data": {
            "text/plain": [
              "[9591.075825156111,\n",
              " 6693.641022165044,\n",
              " 5010.655836659971,\n",
              " 3797.0557571624245,\n",
              " 2930.1739390663734,\n",
              " 2621.197293607489,\n",
              " 2354.0107884169024,\n",
              " 2109.715899907708,\n",
              " 1872.9813419204786]"
            ]
          },
          "metadata": {},
          "execution_count": 23
        }
      ]
    },
    {
      "cell_type": "code",
      "source": [
        "plt.xlabel('k')\n",
        "plt.ylabel('squared error sum')\n",
        "plt.plot(kmeans_range, squaredErrorSum)"
      ],
      "metadata": {
        "colab": {
          "base_uri": "https://localhost:8080/",
          "height": 296
        },
        "id": "ztVJ9AsNRNMZ",
        "outputId": "0d7cf7e0-5e57-4bc8-af39-4c0e10bccda7"
      },
      "execution_count": 24,
      "outputs": [
        {
          "output_type": "execute_result",
          "data": {
            "text/plain": [
              "[<matplotlib.lines.Line2D at 0x7fad24a1d990>]"
            ]
          },
          "metadata": {},
          "execution_count": 24
        },
        {
          "output_type": "display_data",
          "data": {
            "text/plain": [
              "<Figure size 432x288 with 1 Axes>"
            ],
            "image/png": "[encoded data removed]"
          },
          "metadata": {
            "needs_background": "light"
          }
        }
      ]
    },
    {
      "cell_type": "markdown",
      "source": [
        "From the graph we can observe we have got elbow at K=5.Therefor 5 is the best value for K."
      ],
      "metadata": {
        "id": "ohthDyjKRXI9"
      }
    },
    {
      "cell_type": "markdown",
      "source": [
        "[LP2]\n",
        "\n",
        "Perform Principal Component Analysis (PCA) on the filtered dataset and extract the top two principal components.\n",
        "Plot the principal components in a graph using appropriate labels on the x and y axes."
      ],
      "metadata": {
        "id": "l6JQwvdRRyAT"
      }
    },
    {
      "cell_type": "code",
      "source": [
        "# Your code for LP2 goes here\n",
        "# Feel free to add cells below this for LP2\n",
        "\n",
        "from sklearn.decomposition import PCA\n",
        "pca=PCA(n_components=2)\n",
        "pca.fit(bankCluster)\n",
        "pcaData=pca.transform(bankCluster)\n",
        "bankCluster.shape"
      ],
      "metadata": {
        "colab": {
          "base_uri": "https://localhost:8080/"
        },
        "id": "qfb8YjutRzs3",
        "outputId": "d5daf88b-85f6-4b2b-d586-f4295ead2d7b"
      },
      "execution_count": 25,
      "outputs": [
        {
          "output_type": "execute_result",
          "data": {
            "text/plain": [
              "(2242, 5)"
            ]
          },
          "metadata": {},
          "execution_count": 25
        }
      ]
    },
    {
      "cell_type": "code",
      "source": [
        "pcaData.shape"
      ],
      "metadata": {
        "colab": {
          "base_uri": "https://localhost:8080/"
        },
        "id": "pjZu0BNoR6i9",
        "outputId": "eaf18a9f-cdad-4981-866b-cae8f9ce4277"
      },
      "execution_count": 26,
      "outputs": [
        {
          "output_type": "execute_result",
          "data": {
            "text/plain": [
              "(2242, 2)"
            ]
          },
          "metadata": {},
          "execution_count": 26
        }
      ]
    },
    {
      "cell_type": "code",
      "source": [
        "pcaData"
      ],
      "metadata": {
        "colab": {
          "base_uri": "https://localhost:8080/"
        },
        "id": "l_377epQR9xU",
        "outputId": "a3dfb91b-2696-4b36-c557-386075079082"
      },
      "execution_count": 27,
      "outputs": [
        {
          "output_type": "execute_result",
          "data": {
            "text/plain": [
              "array([[-0.24858576,  2.51743737],\n",
              "       [-0.42175658,  4.35269574],\n",
              "       [ 2.02572423, -0.46830337],\n",
              "       ...,\n",
              "       [-0.5321158 , -0.15123535],\n",
              "       [-0.51843303, -0.21650599],\n",
              "       [ 3.32817928,  0.09576705]])"
            ]
          },
          "metadata": {},
          "execution_count": 27
        }
      ]
    },
    {
      "cell_type": "code",
      "source": [
        "import matplotlib.pyplot as plt\n",
        "import seaborn as sns\n",
        "import pandas as pd\n",
        "import numpy as np\n",
        "%matplotlib inline\n",
        "\n",
        "plt.figure(figsize=(8,6))\n",
        "plt.scatter(pcaData[:,0],pcaData[:,1])\n",
        "plt.xlabel(\"PC 1\")\n",
        "plt.ylabel(\"PC 2\")"
      ],
      "metadata": {
        "colab": {
          "base_uri": "https://localhost:8080/",
          "height": 409
        },
        "id": "uGxBP5eUR_6t",
        "outputId": "46eb97cc-5355-4d23-a73b-ccf1f46e50f5"
      },
      "execution_count": 28,
      "outputs": [
        {
          "output_type": "execute_result",
          "data": {
            "text/plain": [
              "Text(0, 0.5, 'PC 2')"
            ]
          },
          "metadata": {},
          "execution_count": 28
        },
        {
          "output_type": "display_data",
          "data": {
            "text/plain": [
              "<Figure size 576x432 with 1 Axes>"
            ],
            "image/png": "[encoded data removed]"
          },
          "metadata": {
            "needs_background": "light"
          }
        }
      ]
    },
    {
      "cell_type": "markdown",
      "source": [
        "[HP2] Did we lose information by picking only the top two principal components? How much information from the four columns in the filtered components are captured in the the two top principal components? Explain your thoughts briefly."
      ],
      "metadata": {
        "id": "DK7wvVJYSJ3v"
      }
    },
    {
      "cell_type": "code",
      "source": [
        "# Your code for HP2 goes here\n",
        "# Feel free to add cells below this for HP2\n",
        "pca.explained_variance_ratio_"
      ],
      "metadata": {
        "colab": {
          "base_uri": "https://localhost:8080/"
        },
        "id": "wyDlQITASTt5",
        "outputId": "e3c00bd8-1b40-486b-a077-b79cf0a792f7"
      },
      "execution_count": 29,
      "outputs": [
        {
          "output_type": "execute_result",
          "data": {
            "text/plain": [
              "array([0.3707352, 0.2654879])"
            ]
          },
          "metadata": {},
          "execution_count": 29
        }
      ]
    },
    {
      "cell_type": "markdown",
      "source": [
        "37.07% of original data's variance can be seen in principal component 1. 26.54% of original data's variance can be seen in principal component 2.\n",
        "\n",
        "We saved arround 37.3% of original data variance by using both PC1 and PC2 and lost arround 36.39% variance is lost. If we want to preserve variance we need to increase the number of principal components."
      ],
      "metadata": {
        "id": "IEqbDpPKSah3"
      }
    }
  ]
}