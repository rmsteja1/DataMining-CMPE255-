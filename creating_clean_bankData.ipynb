{
  "cells": [
    {
      "cell_type": "code",
      "execution_count": null,
      "id": "0fdac854",
      "metadata": {
        "id": "0fdac854",
        "outputId": "a003a80d-1582-4cae-c17f-6d37f0494d97"
      },
      "outputs": [
        {
          "data": {
            "text/html": [
              "<div>\n",
              "<style scoped>\n",
              "    .dataframe tbody tr th:only-of-type {\n",
              "        vertical-align: middle;\n",
              "    }\n",
              "\n",
              "    .dataframe tbody tr th {\n",
              "        vertical-align: top;\n",
              "    }\n",
              "\n",
              "    .dataframe thead th {\n",
              "        text-align: right;\n",
              "    }\n",
              "</style>\n",
              "<table border=\"1\" class=\"dataframe\">\n",
              "  <thead>\n",
              "    <tr style=\"text-align: right;\">\n",
              "      <th></th>\n",
              "      <th>age</th>\n",
              "      <th>job</th>\n",
              "      <th>marital</th>\n",
              "      <th>education</th>\n",
              "      <th>default</th>\n",
              "      <th>balance</th>\n",
              "      <th>housing</th>\n",
              "      <th>loan</th>\n",
              "      <th>contact</th>\n",
              "      <th>day</th>\n",
              "      <th>month</th>\n",
              "      <th>duration</th>\n",
              "      <th>campaign</th>\n",
              "      <th>pdays</th>\n",
              "      <th>previous</th>\n",
              "      <th>poutcome</th>\n",
              "      <th>y</th>\n",
              "    </tr>\n",
              "  </thead>\n",
              "  <tbody>\n",
              "    <tr>\n",
              "      <th>0</th>\n",
              "      <td>47</td>\n",
              "      <td>management</td>\n",
              "      <td>married</td>\n",
              "      <td>tertiary</td>\n",
              "      <td>no</td>\n",
              "      <td>-315</td>\n",
              "      <td>yes</td>\n",
              "      <td>yes</td>\n",
              "      <td>cellular</td>\n",
              "      <td>27</td>\n",
              "      <td>aug</td>\n",
              "      <td>112.0</td>\n",
              "      <td>9.0</td>\n",
              "      <td>-1.0</td>\n",
              "      <td>0</td>\n",
              "      <td>unknown</td>\n",
              "      <td>no</td>\n",
              "    </tr>\n",
              "    <tr>\n",
              "      <th>1</th>\n",
              "      <td>42</td>\n",
              "      <td>management</td>\n",
              "      <td>married</td>\n",
              "      <td>tertiary</td>\n",
              "      <td>no</td>\n",
              "      <td>0</td>\n",
              "      <td>no</td>\n",
              "      <td>no</td>\n",
              "      <td>cellular</td>\n",
              "      <td>26</td>\n",
              "      <td>aug</td>\n",
              "      <td>179.0</td>\n",
              "      <td>16.0</td>\n",
              "      <td>-1.0</td>\n",
              "      <td>0</td>\n",
              "      <td>unknown</td>\n",
              "      <td>no</td>\n",
              "    </tr>\n",
              "    <tr>\n",
              "      <th>2</th>\n",
              "      <td>25</td>\n",
              "      <td>student</td>\n",
              "      <td>single</td>\n",
              "      <td>secondary</td>\n",
              "      <td>no</td>\n",
              "      <td>154</td>\n",
              "      <td>no</td>\n",
              "      <td>no</td>\n",
              "      <td>cellular</td>\n",
              "      <td>2</td>\n",
              "      <td>sep</td>\n",
              "      <td>382.0</td>\n",
              "      <td>1.0</td>\n",
              "      <td>183.0</td>\n",
              "      <td>3</td>\n",
              "      <td>success</td>\n",
              "      <td>yes</td>\n",
              "    </tr>\n",
              "    <tr>\n",
              "      <th>3</th>\n",
              "      <td>49</td>\n",
              "      <td>housemaid</td>\n",
              "      <td>divorced</td>\n",
              "      <td>secondary</td>\n",
              "      <td>no</td>\n",
              "      <td>267</td>\n",
              "      <td>no</td>\n",
              "      <td>no</td>\n",
              "      <td>telephone</td>\n",
              "      <td>9</td>\n",
              "      <td>feb</td>\n",
              "      <td>23.0</td>\n",
              "      <td>5.0</td>\n",
              "      <td>-1.0</td>\n",
              "      <td>0</td>\n",
              "      <td>unknown</td>\n",
              "      <td>no</td>\n",
              "    </tr>\n",
              "    <tr>\n",
              "      <th>4</th>\n",
              "      <td>25</td>\n",
              "      <td>blue-collar</td>\n",
              "      <td>single</td>\n",
              "      <td>primary</td>\n",
              "      <td>no</td>\n",
              "      <td>-221</td>\n",
              "      <td>yes</td>\n",
              "      <td>no</td>\n",
              "      <td>unknown</td>\n",
              "      <td>23</td>\n",
              "      <td>may</td>\n",
              "      <td>250.0</td>\n",
              "      <td>1.0</td>\n",
              "      <td>-1.0</td>\n",
              "      <td>0</td>\n",
              "      <td>unknown</td>\n",
              "      <td>no</td>\n",
              "    </tr>\n",
              "    <tr>\n",
              "      <th>...</th>\n",
              "      <td>...</td>\n",
              "      <td>...</td>\n",
              "      <td>...</td>\n",
              "      <td>...</td>\n",
              "      <td>...</td>\n",
              "      <td>...</td>\n",
              "      <td>...</td>\n",
              "      <td>...</td>\n",
              "      <td>...</td>\n",
              "      <td>...</td>\n",
              "      <td>...</td>\n",
              "      <td>...</td>\n",
              "      <td>...</td>\n",
              "      <td>...</td>\n",
              "      <td>...</td>\n",
              "      <td>...</td>\n",
              "      <td>...</td>\n",
              "    </tr>\n",
              "    <tr>\n",
              "      <th>2246</th>\n",
              "      <td>29</td>\n",
              "      <td>self-employed</td>\n",
              "      <td>single</td>\n",
              "      <td>tertiary</td>\n",
              "      <td>no</td>\n",
              "      <td>270</td>\n",
              "      <td>yes</td>\n",
              "      <td>no</td>\n",
              "      <td>cellular</td>\n",
              "      <td>15</td>\n",
              "      <td>oct</td>\n",
              "      <td>94.0</td>\n",
              "      <td>5.0</td>\n",
              "      <td>274.0</td>\n",
              "      <td>11</td>\n",
              "      <td>failure</td>\n",
              "      <td>no</td>\n",
              "    </tr>\n",
              "    <tr>\n",
              "      <th>2247</th>\n",
              "      <td>55</td>\n",
              "      <td>technician</td>\n",
              "      <td>divorced</td>\n",
              "      <td>secondary</td>\n",
              "      <td>no</td>\n",
              "      <td>3450</td>\n",
              "      <td>no</td>\n",
              "      <td>no</td>\n",
              "      <td>cellular</td>\n",
              "      <td>11</td>\n",
              "      <td>aug</td>\n",
              "      <td>110.0</td>\n",
              "      <td>1.0</td>\n",
              "      <td>-1.0</td>\n",
              "      <td>0</td>\n",
              "      <td>unknown</td>\n",
              "      <td>no</td>\n",
              "    </tr>\n",
              "    <tr>\n",
              "      <th>2248</th>\n",
              "      <td>31</td>\n",
              "      <td>management</td>\n",
              "      <td>single</td>\n",
              "      <td>tertiary</td>\n",
              "      <td>no</td>\n",
              "      <td>0</td>\n",
              "      <td>yes</td>\n",
              "      <td>no</td>\n",
              "      <td>cellular</td>\n",
              "      <td>15</td>\n",
              "      <td>apr</td>\n",
              "      <td>185.0</td>\n",
              "      <td>2.0</td>\n",
              "      <td>-1.0</td>\n",
              "      <td>0</td>\n",
              "      <td>unknown</td>\n",
              "      <td>no</td>\n",
              "    </tr>\n",
              "    <tr>\n",
              "      <th>2249</th>\n",
              "      <td>49</td>\n",
              "      <td>entrepreneur</td>\n",
              "      <td>married</td>\n",
              "      <td>secondary</td>\n",
              "      <td>no</td>\n",
              "      <td>2655</td>\n",
              "      <td>no</td>\n",
              "      <td>no</td>\n",
              "      <td>cellular</td>\n",
              "      <td>17</td>\n",
              "      <td>nov</td>\n",
              "      <td>63.0</td>\n",
              "      <td>1.0</td>\n",
              "      <td>-1.0</td>\n",
              "      <td>0</td>\n",
              "      <td>unknown</td>\n",
              "      <td>no</td>\n",
              "    </tr>\n",
              "    <tr>\n",
              "      <th>2250</th>\n",
              "      <td>37</td>\n",
              "      <td>management</td>\n",
              "      <td>married</td>\n",
              "      <td>tertiary</td>\n",
              "      <td>no</td>\n",
              "      <td>2987</td>\n",
              "      <td>yes</td>\n",
              "      <td>no</td>\n",
              "      <td>cellular</td>\n",
              "      <td>15</td>\n",
              "      <td>feb</td>\n",
              "      <td>93.0</td>\n",
              "      <td>1.0</td>\n",
              "      <td>91.0</td>\n",
              "      <td>9</td>\n",
              "      <td>failure</td>\n",
              "      <td>yes</td>\n",
              "    </tr>\n",
              "  </tbody>\n",
              "</table>\n",
              "<p>2251 rows × 17 columns</p>\n",
              "</div>"
            ],
            "text/plain": [
              "      age            job   marital  education default  balance housing loan  \\\n",
              "0      47     management   married   tertiary      no     -315     yes  yes   \n",
              "1      42     management   married   tertiary      no        0      no   no   \n",
              "2      25        student    single  secondary      no      154      no   no   \n",
              "3      49      housemaid  divorced  secondary      no      267      no   no   \n",
              "4      25    blue-collar    single    primary      no     -221     yes   no   \n",
              "...   ...            ...       ...        ...     ...      ...     ...  ...   \n",
              "2246   29  self-employed    single   tertiary      no      270     yes   no   \n",
              "2247   55     technician  divorced  secondary      no     3450      no   no   \n",
              "2248   31     management    single   tertiary      no        0     yes   no   \n",
              "2249   49   entrepreneur   married  secondary      no     2655      no   no   \n",
              "2250   37     management   married   tertiary      no     2987     yes   no   \n",
              "\n",
              "        contact day month  duration  campaign  pdays  previous poutcome    y  \n",
              "0      cellular  27   aug     112.0       9.0   -1.0         0  unknown   no  \n",
              "1      cellular  26   aug     179.0      16.0   -1.0         0  unknown   no  \n",
              "2      cellular   2   sep     382.0       1.0  183.0         3  success  yes  \n",
              "3     telephone   9   feb      23.0       5.0   -1.0         0  unknown   no  \n",
              "4       unknown  23   may     250.0       1.0   -1.0         0  unknown   no  \n",
              "...         ...  ..   ...       ...       ...    ...       ...      ...  ...  \n",
              "2246   cellular  15   oct      94.0       5.0  274.0        11  failure   no  \n",
              "2247   cellular  11   aug     110.0       1.0   -1.0         0  unknown   no  \n",
              "2248   cellular  15   apr     185.0       2.0   -1.0         0  unknown   no  \n",
              "2249   cellular  17   nov      63.0       1.0   -1.0         0  unknown   no  \n",
              "2250   cellular  15   feb      93.0       1.0   91.0         9  failure  yes  \n",
              "\n",
              "[2251 rows x 17 columns]"
            ]
          },
          "execution_count": 1,
          "metadata": {},
          "output_type": "execute_result"
        }
      ],
      "source": [
        "import pandas as pd\n",
        "bank=pd.read_csv('bank-hw1.csv')\n",
        "bank"
      ]
    },
    {
      "cell_type": "code",
      "execution_count": null,
      "id": "262112c4",
      "metadata": {
        "id": "262112c4",
        "outputId": "0f5e6709-9853-4f73-d48b-7b1638f169ea"
      },
      "outputs": [
        {
          "data": {
            "text/plain": [
              "31     103\n",
              "34      97\n",
              "35      94\n",
              "32      93\n",
              "33      91\n",
              "      ... \n",
              "127      1\n",
              "67       1\n",
              "228      1\n",
              "255      1\n",
              "295      1\n",
              "Name: age, Length: 67, dtype: int64"
            ]
          },
          "execution_count": 2,
          "metadata": {},
          "output_type": "execute_result"
        }
      ],
      "source": [
        "bank['age'].value_counts().sort_values(ascending=False)"
      ]
    },
    {
      "cell_type": "code",
      "execution_count": null,
      "id": "8c339fe4",
      "metadata": {
        "id": "8c339fe4"
      },
      "outputs": [],
      "source": [
        "bank['age'] = bank['age'].mask(bank['age'] < 18,bank['age'].mean())\n",
        "bank['age'] = bank['age'].mask(bank['age'] > 100,bank['age'].mean())"
      ]
    },
    {
      "cell_type": "code",
      "execution_count": null,
      "id": "e04c822b",
      "metadata": {
        "id": "e04c822b",
        "outputId": "8d73fa1d-5f9d-46cb-f95a-5f82b145bf58"
      },
      "outputs": [
        {
          "name": "stderr",
          "output_type": "stream",
          "text": [
            "C:\\Users\\Checkout\\AppData\\Local\\Temp/ipykernel_9896/1290768779.py:1: FutureWarning: The default value of regex will change from True to False in a future version.\n",
            "  bank[\"job\"] = bank['job'].str.replace('[^\\w\\s]','')\n"
          ]
        }
      ],
      "source": [
        "bank[\"job\"] = bank['job'].str.replace('[^\\w\\s]','')"
      ]
    },
    {
      "cell_type": "code",
      "execution_count": null,
      "id": "86010891",
      "metadata": {
        "id": "86010891"
      },
      "outputs": [],
      "source": [
        "bank['job']=bank['job'].replace(dict.fromkeys(['None','unknown'], 'management'))"
      ]
    },
    {
      "cell_type": "code",
      "execution_count": null,
      "id": "5413c1c3",
      "metadata": {
        "id": "5413c1c3",
        "outputId": "f8913202-4010-4283-f5f3-51d49eb3c97e"
      },
      "outputs": [
        {
          "data": {
            "text/plain": [
              "count           2251\n",
              "unique            11\n",
              "top       management\n",
              "freq             488\n",
              "Name: job, dtype: object"
            ]
          },
          "execution_count": 8,
          "metadata": {},
          "output_type": "execute_result"
        }
      ],
      "source": [
        "import numpy as np\n",
        "bank['job']=bank['job'].replace([None,np.nan],'management')\n",
        "bank['job'].describe()"
      ]
    },
    {
      "cell_type": "code",
      "execution_count": null,
      "id": "2bc9a987",
      "metadata": {
        "id": "2bc9a987",
        "outputId": "b9d7976f-e813-4817-e80b-00ac0ae0fc8e"
      },
      "outputs": [
        {
          "data": {
            "text/plain": [
              "married     1355\n",
              "single       639\n",
              "divorced     250\n",
              "M              4\n",
              "1              3\n",
              "Name: marital, dtype: int64"
            ]
          },
          "execution_count": 9,
          "metadata": {},
          "output_type": "execute_result"
        }
      ],
      "source": [
        "bank['marital']=bank['marital'].replace(dict.fromkeys(['maried','Married','marirred','mairied'], 'married'))\n",
        "bank['marital']=bank['marital'].replace(dict.fromkeys(['div','Div'], 'divorced'))\n",
        "bank['marital']=bank['marital'].replace(dict.fromkeys(['Single'], 'single'))\n",
        "bank['marital'].value_counts()"
      ]
    },
    {
      "cell_type": "code",
      "execution_count": null,
      "id": "a4bcfe5d",
      "metadata": {
        "id": "a4bcfe5d",
        "outputId": "64161011-d77b-41ad-de0d-8542a5f007a4"
      },
      "outputs": [
        {
          "data": {
            "text/plain": [
              "married     1362\n",
              "single       639\n",
              "divorced     250\n",
              "Name: marital, dtype: int64"
            ]
          },
          "execution_count": 10,
          "metadata": {},
          "output_type": "execute_result"
        }
      ],
      "source": [
        "bank['marital']=bank['marital'].replace(dict.fromkeys(['M','1'], 'married'))\n",
        "bank['marital'].value_counts()"
      ]
    },
    {
      "cell_type": "code",
      "execution_count": null,
      "id": "3ef5a7c5",
      "metadata": {
        "id": "3ef5a7c5"
      },
      "outputs": [],
      "source": [
        "import numpy as np\n",
        "bank['day']=bank['day'].replace([None,np.nan],'20')"
      ]
    },
    {
      "cell_type": "code",
      "execution_count": null,
      "id": "7d2abf08",
      "metadata": {
        "id": "7d2abf08",
        "outputId": "c526d730-64aa-4b05-e1cc-f4626c43a738"
      },
      "outputs": [
        {
          "name": "stderr",
          "output_type": "stream",
          "text": [
            "C:\\Users\\Checkout\\AppData\\Local\\Temp/ipykernel_9896/1297175420.py:1: FutureWarning: The default value of regex will change from True to False in a future version.\n",
            "  bank['day'] = bank['day'].str.replace(r'\\D', '').astype(int)\n"
          ]
        }
      ],
      "source": [
        "bank['day'] = bank['day'].str.replace(r'\\D', '').astype(int)"
      ]
    },
    {
      "cell_type": "code",
      "execution_count": null,
      "id": "82bcb498",
      "metadata": {
        "id": "82bcb498",
        "outputId": "356b3052-fe68-4e26-add4-cc892af9e7bb"
      },
      "outputs": [
        {
          "name": "stderr",
          "output_type": "stream",
          "text": [
            "C:\\Users\\Checkout\\AppData\\Local\\Temp/ipykernel_9896/2483890027.py:2: FutureWarning: The default value of regex will change from True to False in a future version.\n",
            "  bank['month'] = bank['month'].str.replace(r'\\d', '')#to replace all the ints in the string\n",
            "C:\\Users\\Checkout\\AppData\\Local\\Temp/ipykernel_9896/2483890027.py:3: FutureWarning: The default value of regex will change from True to False in a future version.\n",
            "  bank['month'] = bank['month'].str.replace(r'[^\\w\\s]', '')#to replace all the punctuations\n"
          ]
        }
      ],
      "source": [
        "#now we shall remove all the ints and from our column\n",
        "bank['month'] = bank['month'].str.replace(r'\\d', '')#to replace all the ints in the string\n",
        "bank['month'] = bank['month'].str.replace(r'[^\\w\\s]', '')#to replace all the punctuations\n",
        "bank = bank.replace({'month' : {'august':'aug', 'August':'aug','Apr':'apr','Jul':'jul','Aug':'aug'}})"
      ]
    },
    {
      "cell_type": "code",
      "execution_count": null,
      "id": "f3b42ffb",
      "metadata": {
        "id": "f3b42ffb"
      },
      "outputs": [],
      "source": [
        "    bank['month']=bank['month'].replace([None,np.nan],'may')"
      ]
    },
    {
      "cell_type": "code",
      "execution_count": null,
      "id": "7c893540",
      "metadata": {
        "id": "7c893540"
      },
      "outputs": [],
      "source": [
        "bank = bank[bank['duration']>0]"
      ]
    },
    {
      "cell_type": "code",
      "execution_count": null,
      "id": "f570d50d",
      "metadata": {
        "id": "f570d50d",
        "outputId": "76326d56-f58d-4186-9cf4-7047d20b903e"
      },
      "outputs": [
        {
          "data": {
            "text/plain": [
              "298        2.0\n",
              "341        4.0\n",
              "1058       5.0\n",
              "1486       6.0\n",
              "1002       7.0\n",
              "         ...  \n",
              "802     1859.0\n",
              "286     1916.0\n",
              "1953    2029.0\n",
              "200     2177.0\n",
              "1832    3322.0\n",
              "Name: duration, Length: 2242, dtype: float64"
            ]
          },
          "execution_count": 18,
          "metadata": {},
          "output_type": "execute_result"
        }
      ],
      "source": [
        "bank['duration'].sort_values(ascending=True)"
      ]
    },
    {
      "cell_type": "code",
      "execution_count": null,
      "id": "5f648e95",
      "metadata": {
        "id": "5f648e95"
      },
      "outputs": [],
      "source": [
        "bank['duration']=bank['duration'].replace([None,np.nan],bank['duration'].mean())"
      ]
    },
    {
      "cell_type": "code",
      "execution_count": null,
      "id": "5f28d158",
      "metadata": {
        "id": "5f28d158"
      },
      "outputs": [],
      "source": [
        "category=[fea for fea in bank.columns if ((bank[fea].dtypes=='O')&(fea not in ['y']))]"
      ]
    },
    {
      "cell_type": "code",
      "execution_count": null,
      "id": "570e5b6b",
      "metadata": {
        "id": "570e5b6b"
      },
      "outputs": [],
      "source": [
        "dummy=pd.get_dummies(bank['job'])"
      ]
    },
    {
      "cell_type": "code",
      "execution_count": null,
      "id": "3ff95bff",
      "metadata": {
        "id": "3ff95bff"
      },
      "outputs": [],
      "source": [
        "bank=pd.concat([bank,dummy],axis='columns')"
      ]
    },
    {
      "cell_type": "code",
      "execution_count": null,
      "id": "b7d36dd7",
      "metadata": {
        "id": "b7d36dd7"
      },
      "outputs": [],
      "source": [
        "bank=bank.drop(['job','student'],axis='columns')"
      ]
    },
    {
      "cell_type": "code",
      "execution_count": null,
      "id": "33604194",
      "metadata": {
        "id": "33604194"
      },
      "outputs": [],
      "source": [
        "bank = bank.replace({'marital' : {'married':0, 'single':1,'divorced':0}})"
      ]
    },
    {
      "cell_type": "code",
      "execution_count": null,
      "id": "f5fd1080",
      "metadata": {
        "id": "f5fd1080"
      },
      "outputs": [],
      "source": [
        "bank = bank.replace({'education' : {'tertiary':1, 'secondary':0,'primary':0}})"
      ]
    },
    {
      "cell_type": "code",
      "execution_count": null,
      "id": "77d2afbc",
      "metadata": {
        "id": "77d2afbc"
      },
      "outputs": [],
      "source": [
        "bank = bank.replace({'default' : {'no':1,'yes':0}})"
      ]
    },
    {
      "cell_type": "code",
      "execution_count": null,
      "id": "0111a1a6",
      "metadata": {
        "id": "0111a1a6"
      },
      "outputs": [],
      "source": [
        "bank = bank.replace({'housing' : {'no':1,'yes':0}})"
      ]
    },
    {
      "cell_type": "code",
      "execution_count": null,
      "id": "448d3e82",
      "metadata": {
        "id": "448d3e82"
      },
      "outputs": [],
      "source": [
        "bank = bank.replace({'loan' : {'no':1,'yes':0}})"
      ]
    },
    {
      "cell_type": "code",
      "execution_count": null,
      "id": "753ae70c",
      "metadata": {
        "id": "753ae70c"
      },
      "outputs": [],
      "source": [
        "    bank['contact']=bank['contact'].replace('unknown','cellular')"
      ]
    },
    {
      "cell_type": "code",
      "execution_count": null,
      "id": "ae29d855",
      "metadata": {
        "id": "ae29d855"
      },
      "outputs": [],
      "source": [
        "bank = bank.replace({'contact' : {'cellular':1,'telephone':0}})"
      ]
    },
    {
      "cell_type": "code",
      "execution_count": null,
      "id": "58cdd702",
      "metadata": {
        "id": "58cdd702"
      },
      "outputs": [],
      "source": [
        "bank = bank.replace({'month' : {'jun':1,'dec':1,'sep':1,'mar':1,'aug':0,'feb':0,'may':0,'apr':0,'nov':0,'jan':0,'oct':0,'jul':0}})"
      ]
    },
    {
      "cell_type": "code",
      "execution_count": null,
      "id": "7c056295",
      "metadata": {
        "id": "7c056295",
        "outputId": "6d2f3603-b572-4ed0-8671-ca20f2a5236c"
      },
      "outputs": [
        {
          "data": {
            "text/html": [
              "<div>\n",
              "<style scoped>\n",
              "    .dataframe tbody tr th:only-of-type {\n",
              "        vertical-align: middle;\n",
              "    }\n",
              "\n",
              "    .dataframe tbody tr th {\n",
              "        vertical-align: top;\n",
              "    }\n",
              "\n",
              "    .dataframe thead th {\n",
              "        text-align: right;\n",
              "    }\n",
              "</style>\n",
              "<table border=\"1\" class=\"dataframe\">\n",
              "  <thead>\n",
              "    <tr style=\"text-align: right;\">\n",
              "      <th></th>\n",
              "      <th>20</th>\n",
              "      <th>7</th>\n",
              "      <th>17</th>\n",
              "      <th>5</th>\n",
              "      <th>18</th>\n",
              "      <th>28</th>\n",
              "      <th>14</th>\n",
              "      <th>21</th>\n",
              "      <th>29</th>\n",
              "      <th>6</th>\n",
              "    </tr>\n",
              "  </thead>\n",
              "  <tbody>\n",
              "    <tr>\n",
              "      <th>0</th>\n",
              "      <td>0</td>\n",
              "      <td>0</td>\n",
              "      <td>0</td>\n",
              "      <td>0</td>\n",
              "      <td>0</td>\n",
              "      <td>0</td>\n",
              "      <td>0</td>\n",
              "      <td>0</td>\n",
              "      <td>0</td>\n",
              "      <td>0</td>\n",
              "    </tr>\n",
              "    <tr>\n",
              "      <th>1</th>\n",
              "      <td>0</td>\n",
              "      <td>0</td>\n",
              "      <td>0</td>\n",
              "      <td>0</td>\n",
              "      <td>0</td>\n",
              "      <td>0</td>\n",
              "      <td>0</td>\n",
              "      <td>0</td>\n",
              "      <td>0</td>\n",
              "      <td>0</td>\n",
              "    </tr>\n",
              "    <tr>\n",
              "      <th>2</th>\n",
              "      <td>0</td>\n",
              "      <td>0</td>\n",
              "      <td>0</td>\n",
              "      <td>0</td>\n",
              "      <td>0</td>\n",
              "      <td>0</td>\n",
              "      <td>0</td>\n",
              "      <td>0</td>\n",
              "      <td>0</td>\n",
              "      <td>0</td>\n",
              "    </tr>\n",
              "    <tr>\n",
              "      <th>3</th>\n",
              "      <td>0</td>\n",
              "      <td>0</td>\n",
              "      <td>0</td>\n",
              "      <td>0</td>\n",
              "      <td>0</td>\n",
              "      <td>0</td>\n",
              "      <td>0</td>\n",
              "      <td>0</td>\n",
              "      <td>0</td>\n",
              "      <td>0</td>\n",
              "    </tr>\n",
              "    <tr>\n",
              "      <th>4</th>\n",
              "      <td>0</td>\n",
              "      <td>0</td>\n",
              "      <td>0</td>\n",
              "      <td>0</td>\n",
              "      <td>0</td>\n",
              "      <td>0</td>\n",
              "      <td>0</td>\n",
              "      <td>0</td>\n",
              "      <td>0</td>\n",
              "      <td>0</td>\n",
              "    </tr>\n",
              "    <tr>\n",
              "      <th>5</th>\n",
              "      <td>0</td>\n",
              "      <td>0</td>\n",
              "      <td>1</td>\n",
              "      <td>0</td>\n",
              "      <td>0</td>\n",
              "      <td>0</td>\n",
              "      <td>0</td>\n",
              "      <td>0</td>\n",
              "      <td>0</td>\n",
              "      <td>0</td>\n",
              "    </tr>\n",
              "    <tr>\n",
              "      <th>6</th>\n",
              "      <td>0</td>\n",
              "      <td>0</td>\n",
              "      <td>1</td>\n",
              "      <td>0</td>\n",
              "      <td>0</td>\n",
              "      <td>0</td>\n",
              "      <td>0</td>\n",
              "      <td>0</td>\n",
              "      <td>0</td>\n",
              "      <td>0</td>\n",
              "    </tr>\n",
              "    <tr>\n",
              "      <th>7</th>\n",
              "      <td>0</td>\n",
              "      <td>0</td>\n",
              "      <td>0</td>\n",
              "      <td>0</td>\n",
              "      <td>0</td>\n",
              "      <td>0</td>\n",
              "      <td>0</td>\n",
              "      <td>0</td>\n",
              "      <td>0</td>\n",
              "      <td>0</td>\n",
              "    </tr>\n",
              "    <tr>\n",
              "      <th>8</th>\n",
              "      <td>0</td>\n",
              "      <td>0</td>\n",
              "      <td>0</td>\n",
              "      <td>0</td>\n",
              "      <td>0</td>\n",
              "      <td>0</td>\n",
              "      <td>0</td>\n",
              "      <td>0</td>\n",
              "      <td>0</td>\n",
              "      <td>0</td>\n",
              "    </tr>\n",
              "    <tr>\n",
              "      <th>9</th>\n",
              "      <td>0</td>\n",
              "      <td>0</td>\n",
              "      <td>0</td>\n",
              "      <td>0</td>\n",
              "      <td>0</td>\n",
              "      <td>0</td>\n",
              "      <td>0</td>\n",
              "      <td>0</td>\n",
              "      <td>0</td>\n",
              "      <td>0</td>\n",
              "    </tr>\n",
              "  </tbody>\n",
              "</table>\n",
              "</div>"
            ],
            "text/plain": [
              "   20  7  17  5  18  28  14  21  29  6\n",
              "0   0  0   0  0   0   0   0   0   0  0\n",
              "1   0  0   0  0   0   0   0   0   0  0\n",
              "2   0  0   0  0   0   0   0   0   0  0\n",
              "3   0  0   0  0   0   0   0   0   0  0\n",
              "4   0  0   0  0   0   0   0   0   0  0\n",
              "5   0  0   1  0   0   0   0   0   0  0\n",
              "6   0  0   1  0   0   0   0   0   0  0\n",
              "7   0  0   0  0   0   0   0   0   0  0\n",
              "8   0  0   0  0   0   0   0   0   0  0\n",
              "9   0  0   0  0   0   0   0   0   0  0"
            ]
          },
          "execution_count": 32,
          "metadata": {},
          "output_type": "execute_result"
        }
      ],
      "source": [
        "topTen=[x for x in bank['day'].value_counts().sort_values(ascending=False).head(10).index]\n",
        "for label in topTen:\n",
        "    bank[label]=np.where(bank['day']==label,1,0)\n",
        "bank[topTen].head(10)"
      ]
    },
    {
      "cell_type": "code",
      "execution_count": null,
      "id": "f206f3cf",
      "metadata": {
        "id": "f206f3cf"
      },
      "outputs": [],
      "source": [
        "bank=bank.drop(['day',29],axis='columns')"
      ]
    },
    {
      "cell_type": "code",
      "execution_count": null,
      "id": "3a4f60aa",
      "metadata": {
        "id": "3a4f60aa"
      },
      "outputs": [],
      "source": [
        "from sklearn.preprocessing import MinMaxScaler\n",
        "scaler=MinMaxScaler()\n",
        "normal=scaler.fit_transform(bank[['age']])\n",
        "normal=[x[0] for x in normal]\n",
        "bank['age']=normal"
      ]
    },
    {
      "cell_type": "code",
      "execution_count": null,
      "id": "0bdcad3a",
      "metadata": {
        "id": "0bdcad3a"
      },
      "outputs": [],
      "source": [
        "from sklearn.preprocessing import StandardScaler\n",
        "scaler=StandardScaler()\n",
        "normal=scaler.fit_transform(bank[['balance']])\n",
        "normal=[x[0] for x in normal]\n",
        "bank['balance']=normal"
      ]
    },
    {
      "cell_type": "code",
      "execution_count": null,
      "id": "7c02e222",
      "metadata": {
        "id": "7c02e222"
      },
      "outputs": [],
      "source": [
        "from sklearn.preprocessing import StandardScaler\n",
        "scaler=StandardScaler()\n",
        "normal=scaler.fit_transform(bank[['duration']])\n",
        "normal=[x[0] for x in normal]\n",
        "bank['duration']=normal"
      ]
    },
    {
      "cell_type": "code",
      "execution_count": null,
      "id": "efca41a5",
      "metadata": {
        "id": "efca41a5"
      },
      "outputs": [],
      "source": [
        "bank['campaign']=bank['campaign'].replace([None,np.nan],1)"
      ]
    },
    {
      "cell_type": "code",
      "execution_count": null,
      "id": "66a6c0f4",
      "metadata": {
        "id": "66a6c0f4"
      },
      "outputs": [],
      "source": [
        "from sklearn.preprocessing import StandardScaler\n",
        "scaler=StandardScaler()\n",
        "normal=scaler.fit_transform(bank[['campaign']])\n",
        "normal=[x[0] for x in normal]\n",
        "bank['campaign']=normal"
      ]
    },
    {
      "cell_type": "code",
      "execution_count": null,
      "id": "9a86309e",
      "metadata": {
        "id": "9a86309e"
      },
      "outputs": [],
      "source": [
        "bank['pdays']=bank['pdays'].replace([None,np.nan],-1)"
      ]
    },
    {
      "cell_type": "code",
      "execution_count": null,
      "id": "65c65217",
      "metadata": {
        "id": "65c65217"
      },
      "outputs": [],
      "source": [
        "from sklearn.preprocessing import StandardScaler\n",
        "scaler=StandardScaler()\n",
        "normal=scaler.fit_transform(bank[['pdays']])\n",
        "normal=[x[0] for x in normal]\n",
        "bank['pdays']=normal"
      ]
    },
    {
      "cell_type": "code",
      "execution_count": null,
      "id": "8e73f8d2",
      "metadata": {
        "id": "8e73f8d2"
      },
      "outputs": [],
      "source": [
        "from sklearn.preprocessing import StandardScaler\n",
        "scaler=StandardScaler()\n",
        "normal=scaler.fit_transform(bank[['previous']])\n",
        "normal=[x[0] for x in normal]\n",
        "bank['previous']=normal"
      ]
    },
    {
      "cell_type": "code",
      "execution_count": null,
      "id": "e2c1301e",
      "metadata": {
        "id": "e2c1301e"
      },
      "outputs": [],
      "source": [
        "bank['poutcome']=bank['poutcome'].replace('unknown','failure')\n",
        "bank['poutcome']=bank['poutcome'].replace('failure',0)\n",
        "bank['poutcome']=bank['poutcome'].replace('success',1)"
      ]
    },
    {
      "cell_type": "code",
      "execution_count": null,
      "id": "631077fb",
      "metadata": {
        "id": "631077fb"
      },
      "outputs": [],
      "source": [
        "bank.to_csv('bank_cleans.csv')"
      ]
    },
    {
      "cell_type": "code",
      "execution_count": null,
      "id": "2b1d4939",
      "metadata": {
        "id": "2b1d4939"
      },
      "outputs": [],
      "source": [
        ""
      ]
    }
  ],
  "metadata": {
    "kernelspec": {
      "display_name": "Python 3 (ipykernel)",
      "language": "python",
      "name": "python3"
    },
    "language_info": {
      "codemirror_mode": {
        "name": "ipython",
        "version": 3
      },
      "file_extension": ".py",
      "mimetype": "text/x-python",
      "name": "python",
      "nbconvert_exporter": "python",
      "pygments_lexer": "ipython3",
      "version": "3.9.7"
    },
    "colab": {
      "name": "create_bank_clean.ipynb",
      "provenance": []
    }
  },
  "nbformat": 4,
  "nbformat_minor": 5
}