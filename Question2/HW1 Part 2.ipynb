{
 "cells": [
  {
   "cell_type": "markdown",
   "metadata": {
    "id": "nFqIMlX0hG73"
   },
   "source": [
    "# HW 1 Part 2: Preprocessing Bank Marketing Dataset\n",
    "\n",
    "The original dataset is available here: https://archive.ics.uci.edu/ml/datasets/Bank+Marketing\n",
    "We have a modified subset of this dataset to practice data  preprocessing. \n",
    "\n",
    "Perform the following tasks on the provided bank marketing dataset (bank-hw1.csv contains the dataset and bank-names.txt contains the description of the original dataset). Complete all the LP questions to receive a \"low pass\" grade on the homework. Complete all the questions (both LP and HP) to receive a \"high pass\" grade on the homework. \n",
    "\n",
    "Note that if you are unable to complete any of the LP questions satisfactorily, you will receive a grade of \"revision required\". You can revise and resubmit your work in exchange for a token. Please review the syllabus for more information on specifications grading.\n",
    "\n",
    "**VERY IMPORTANT**: Include **ALL** the references you used for this assignment, including names of classmates you discuss with. Failure to cite your sources counts as an act of academic dishonesty and will be taken seriously without zero tolerance. You will automatically receive a “fail” grade in the homework and further serious penalties may be imposed.\n",
    "\n",
    "NOTE: You can look for help on the Internet but refrain from referencing too much. Please cite all your sources in your submission. \n",
    "When you submit your assignment, you automatically agree to the following statement. If you do not agree, it is your responsibility to provide the reason.\n",
    "\n",
    "“*I affirm that I have neither given nor received unauthorized help in completing this homework. I am not aware of others receiving such help. I have cited all the sources in the solution file.*”"
   ]
  },
  {
   "cell_type": "code",
   "execution_count": 146,
   "metadata": {
    "id": "t1jTtAbpCOMM"
   },
   "outputs": [],
   "source": [
    "## Your code goes here. Import the csv into a pandas dataframe here\n",
    "import pandas as pd\n",
    "import numpy as np\n",
    "data_frame=pd.read_csv(\"bank-hw1.csv\")"
   ]
  },
  {
   "cell_type": "markdown",
   "metadata": {
    "id": "m6ElwLnzjL0a"
   },
   "source": [
    "[LP 1] Deal with the erroneous and missing values in the dataset. Below is necessary information about the columns that contain missing and erroneous values:\n",
    "\n",
    "1. Age: must be in the range 18-100 \n",
    "2. Job: case insensitive field, column contains clerical errors where extra dots or punctuations are left in the entries \n",
    "3. Marital: marital status is case insensitive; short forms of the entries refer to the same value (e.g., div is the same as divorced); there are typographical errors in the entries\n",
    "4. Day and month: some entries have both these values combined in one column \n",
    "5. Duration: all entries must be non-negative\n",
    "\n",
    "The set of possible values in each column and their meaning is provided in the bank-names.txt file. You can use the information to make decisions. Please explain your choices even if you only took a guess. \n",
    "\n"
   ]
  },
  {
   "cell_type": "code",
   "execution_count": null,
   "metadata": {},
   "outputs": [],
   "source": [
    "## Your code for LP 1 goes here. \n",
    "\n",
    "#For Age column:\n",
    "data_frame['age'].loc[(data_frame['age']<18)]=18\n",
    "data_frame['age'].loc[(data_frame['age']>100)]=100\n",
    "\n",
    "# For Job:\n",
    "data_frame['job'].loc[data_frame['job'].str.contains('\\.',na=True)]=data_frame['job'].str.slice(0,-1)\n",
    "data_frame['job']=data_frame['job'].str.replace(r'\\W',\"\")\n",
    "\n",
    "\n",
    "#For Marital:\n",
    "data_frame['marital'] = data_frame['marital'].replace(['div','Div'],'divorced')\n",
    "data_frame['marital'] = data_frame['marital'].replace(['M',\"Married\",\"maried\",\"mairied\",\"marirred\"],'married')\n",
    "data_frame['marital'] = data_frame['marital'].replace(\"Single\",'single')\n",
    "data_frame = data_frame[data_frame['marital']!='1']\n",
    "\n",
    "#For day\n",
    "data_frame=data_frame[data_frame['day'].str.len()<=2]\n",
    "\n",
    "#For Month\n",
    "data_frame['month'] = data_frame['month'].replace(['August','august'],'aug')\n",
    "data_frame=data_frame[~data_frame['month'].isin(['27-Aug','8-Aug'])]\n",
    "\n",
    "#For Duration:\n",
    "data_frame['duration'][data_frame['duration']<0]=0\n",
    "\n",
    "#For Balance\n",
    "data_frame['balance'][data_frame['balance']<0]=0\n"
   ]
  },
  {
   "cell_type": "markdown",
   "metadata": {
    "id": "xh9UM5hqn1HO"
   },
   "source": [
    "[LP 2] Use encoders and convert the categorical variables to numerical values.\n",
    "\n",
    "[HP 1] Describe your choice of encoder for these columns and explain why they are appropriate for the column.\n"
   ]
  },
  {
   "cell_type": "code",
   "execution_count": 148,
   "metadata": {
    "id": "8S41K2hfCWPa"
   },
   "outputs": [],
   "source": [
    "## Your code for LP 2 goes here. \n",
    "\n",
    "#Encoding Job Column\n",
    "data_frame=data_frame[data_frame['job'].notna()]\n",
    "data_frame=data_frame[data_frame['job']!='unknown']\n",
    "\n",
    "from sklearn.preprocessing import LabelEncoder\n",
    "encoder2 = LabelEncoder()\n",
    "data_frame['ENCODED_JOB'] = encoder2.fit_transform(data_frame['job'])\n",
    "\n",
    "#Encoding marital column:\n",
    "data_frame['ENCODED_MARITAL'] = encoder2.fit_transform(data_frame['marital'])\n",
    "\n",
    "#Encoded education column:\n",
    "data_frame=data_frame[data_frame['education'].notna()]\n",
    "Educational_dict = {'primary' : 1,'secondary' : 2,'tertiary' :3}\n",
    "data_frame['ENCODED_EDUCATION'] = data_frame['education'].map(Educational_dict)\n",
    "\n",
    "#Encoding default column:\n",
    "from sklearn.preprocessing import LabelBinarizer\n",
    "encoder1 = LabelBinarizer()\n",
    "data_frame['ENCODED_DEFAULT']=encoder1.fit_transform(data_frame['default'].values.reshape(-1,1))\n",
    "\n",
    "#Encoding housing column:\n",
    "data_frame['ENCODED_HOUSING']=encoder1.fit_transform(data_frame['housing'].values.reshape(-1,1))\n",
    "\n",
    "#Encoding Contact column:\n",
    "data_frame['ENCODED_CONTACT'] = encoder2.fit_transform(data_frame['contact'])\n",
    "\n",
    "#Encoding P_outcome\n",
    "data_frame['ENCODED_POUTCOME'] = encoder2.fit_transform(data_frame['poutcome'])\n",
    "\n",
    "#Encodin months\n",
    "months_dict = {'jan' : 1,'feb' : 2,'mar' :3,'apr':4,'may':5,'jun':6,'jul':7,'aug':8,'sep':9,'oct':10,'nov':11,'dec':12}\n",
    "data_frame['ENCODED_MONTHS'] = data_frame['month'].map(months_dict)\n",
    "\n",
    "\n",
    "#Encodin y\n",
    "data_frame['ENCODED_Y']=encoder1.fit_transform(data_frame['y'].values.reshape(-1,1))"
   ]
  },
  {
   "cell_type": "code",
   "execution_count": null,
   "metadata": {},
   "outputs": [],
   "source": []
  },
  {
   "cell_type": "markdown",
   "metadata": {
    "id": "Z4cohM7LCXy7"
   },
   "source": [
    "< Your answer for HP 1 goes here >\n",
    "\n",
    "1) Column 'Job':\n",
    "Encoder Used : LabelEncode\n",
    "Reason: In the given column there are 11 unique values, for all these values 11 unique numbers are assigned and because of this relation among them is not violated.\n",
    "\n",
    "2) Colum marital:\n",
    "Encoder Used : LabelEncode\n",
    "Reason: In the given column there are 3 unique values, for all these values 3 unique numbers are assigned and because of this relation among them is not violated.\n",
    "\n",
    "3) Education column:\n",
    "This column has three different field 'primary','secondary','tertiary' for all these value based on their level concurent ranking is given so that ordinal meaning is not currupted.\n",
    "\n",
    "4) Default Column:\n",
    "Encoder:LabelBinarizer\n",
    "This column containd only two vales, yes and no. If we use any binary encoding technique like LabelBinarizer we can generate binary values which satisfies or requiremnt.\n",
    "\n",
    "5) Housing Column:\n",
    "Encoder:LabelBinarizer\n",
    "This column containd only two vales, yes and no. If we use any binary encoding technique like LabelBinarizer we can generate binary values which satisfies or requiremnt.\n",
    "\n",
    "6) Encoded Contact:\n",
    "Encoder: LabelEncode\n",
    "Reason: In the given column there are 3 unique values, for all these values 3 unique numbers are assigned and because of this relation among them is not violated.\n",
    "\n",
    "7) Encoded Poutcome:\n",
    "Encoder: LabelEncode\n",
    "Reason: In the given column there are 3 unique values, for all these values 3 unique numbers are assigned and because of this relation among them is not violated.\n",
    "\n",
    "8) Encoded month:\n",
    "Starting from 1 every month is given its corresponding integer value.\n",
    "\n",
    "9) Encoding Y:\n",
    "LabelBinarizer\n",
    "This column containd only two vales, yes and no. If we use any binary encoding technique like LabelBinarizer we can generate binary values which satisfies or requiremnt.\n"
   ]
  },
  {
   "cell_type": "markdown",
   "metadata": {
    "id": "eYIkt1kNn4AQ"
   },
   "source": [
    "[LP 3] Use an appropriate scaler to scale the numerical values to a suitable range of values. Briefly explain the process you used."
   ]
  },
  {
   "cell_type": "code",
   "execution_count": 149,
   "metadata": {
    "id": "GNhdECajCdZK"
   },
   "outputs": [],
   "source": [
    "from sklearn.preprocessing import MinMaxScaler\n",
    "min_max=MinMaxScaler(feature_range=(5, 10))\n",
    "data_frame[['age','balance','day','duration','ENCODED_JOB','ENCODED_MARITAL','ENCODED_EDUCATION','ENCODED_DEFAULT','ENCODED_HOUSING','ENCODED_CONTACT','ENCODED_POUTCOME','ENCODED_MONTHS','ENCODED_Y']]=min_max.fit_transform(data_frame[['age','balance','day','duration','ENCODED_JOB','ENCODED_MARITAL','ENCODED_EDUCATION','ENCODED_DEFAULT','ENCODED_HOUSING','ENCODED_CONTACT','ENCODED_POUTCOME','ENCODED_MONTHS','ENCODED_Y']])\n"
   ]
  },
  {
   "cell_type": "markdown",
   "metadata": {
    "id": "UWT5NohBoJjV"
   },
   "source": [
    "Save your clean dataset in a file called **bank_clean.csv**. Submit this file along with the ipynb solution file. "
   ]
  },
  {
   "cell_type": "code",
   "execution_count": 150,
   "metadata": {
    "id": "rBCXHZRLCgJq"
   },
   "outputs": [],
   "source": [
    "## Your code to save the dataframe to a csv file goes here. \n",
    "data_frame.to_csv(\"Bank_cleaned_data.csv\")"
   ]
  },
  {
   "cell_type": "markdown",
   "metadata": {
    "id": "n9BYddxxAv9K"
   },
   "source": [
    "[HP 2] After cleaning the data, are there any columns that seem redundant or unnecessary? If there is a particular business outcome for which a column might be unnecessary, please state it here.\n",
    "\n",
    "> Indented block\n",
    "\n",
    "\n"
   ]
  },
  {
   "cell_type": "markdown",
   "metadata": {
    "id": "8yic6PaOCkfL"
   },
   "source": [
    "< Your answer for HP 2 goes here >\n",
    "1) Contact: Contact communication type, this attribute doesn't hold any logic significance in building the model or any prediction.\n",
    "\n",
    "2)Education:The type of the degree our customer hold will have less significane in building a model.\n",
    "\n",
    "3) Day: We already have duration colum through which can identify the numnber of days so this column might not have much significance.\n",
    "\n",
    "4) Month: As we have duration column through which we can identify the last contacted month, this column will have less significane."
   ]
  },
  {
   "cell_type": "markdown",
   "metadata": {
    "id": "54AMLMvoBLb7"
   },
   "source": [
    "[HP 3] What is the average duration of calls made in the month of November? Plot a histogram of call duration in the month of November."
   ]
  },
  {
   "cell_type": "code",
   "execution_count": 151,
   "metadata": {
    "id": "mudCWehNCn06"
   },
   "outputs": [
    {
     "data": {
      "image/png": "[encoded data removed]",
      "text/plain": [
       "<Figure size 432x288 with 1 Axes>"
      ]
     },
     "metadata": {
      "needs_background": "light"
     },
     "output_type": "display_data"
    },
    {
     "data": {
      "text/plain": [
       "5.394190602658971"
      ]
     },
     "execution_count": 151,
     "metadata": {},
     "output_type": "execute_result"
    }
   ],
   "source": [
    "## Your code for HP 3 goes here. \n",
    "import matplotlib.pyplot as plt\n",
    "import numpy as np\n",
    "\n",
    "x = data_frame['duration'][data_frame['month']=='aug']\n",
    "\n",
    "plt.hist(x)\n",
    "plt.show() \n",
    "\n",
    "\n",
    "\n",
    "data_frame['duration'].mean()\n"
   ]
  },
  {
   "cell_type": "markdown",
   "metadata": {
    "id": "3l1ztNR5BbPa"
   },
   "source": [
    "[HP 4] How many times on an average were customers whose \"poutcome\" was \"success\" contacted previously (\"previous\" column contains this information)? How does this compare to the customers whose \"poutcome\" was \"failure\" or \"other\"? What insight does this step provide?"
   ]
  },
  {
   "cell_type": "code",
   "execution_count": 152,
   "metadata": {
    "id": "49nC0392n5cG"
   },
   "outputs": [
    {
     "data": {
      "text/plain": [
       "7"
      ]
     },
     "execution_count": 152,
     "metadata": {},
     "output_type": "execute_result"
    }
   ],
   "source": [
    "## Your code for HP 4 goes here. \n",
    "##customers with pout ='success' and previous >0\n",
    "\n",
    "success_data=data_frame['previous'][(data_frame['poutcome']=='success') & data_frame['previous']>0]\n",
    "\n",
    "#round(success_data.mean()) #Average time customer was contacted was 3\n",
    "\n",
    "round(data_frame['previous'][(data_frame['poutcome']=='unknown') & data_frame['previous']>0].mean()) #7\n",
    "\n",
    "#Insights:\n",
    "#1)On an average customers were contacted 3 times previously for whom the poutcome is success.\n",
    "\n",
    "#2) On an average customers were contacted 3 times previously for whom the poutcome is Failure.\n",
    "\n",
    "#3) For the customers whose outcome is \"unknown\" they were contacted 7 times previously.\n",
    "\n",
    "#4) From this insights we can observe that the customer's whose poutcome is succees or failure were contacted 3 time on an average.\n",
    "\n"
   ]
  },
  {
   "cell_type": "markdown",
   "metadata": {
    "id": "VQYb_dd3obyT"
   },
   "source": [
    "# References\n",
    "https://matplotlib.org/3.5.1/api/_as_gen/matplotlib.pyplot.hist.html\n",
    "\n",
    "Note: I had few discussions with one of my classmate Sai Varshith Talluri[SSID:015952586].\n",
    "\n",
    "# What to turn in:\n",
    "1. The ipynb solution file, which includes the references\n",
    "2. If you use Colab or GitHub for version control, please share a link to your notebook or GitHub repository\n",
    "3. The bank_clean.csv file\n",
    "\n"
   ]
  },
  {
   "cell_type": "code",
   "execution_count": null,
   "metadata": {},
   "outputs": [],
   "source": []
  }
 ],
 "metadata": {
  "colab": {
   "name": "HW1 Part 2.ipynb",
   "provenance": []
  },
  "kernelspec": {
   "display_name": "Python 3 (ipykernel)",
   "language": "python",
   "name": "python3"
  },
  "language_info": {
   "codemirror_mode": {
    "name": "ipython",
    "version": 3
   },
   "file_extension": ".py",
   "mimetype": "text/x-python",
   "name": "python",
   "nbconvert_exporter": "python",
   "pygments_lexer": "ipython3",
   "version": "3.9.7"
  }
 },
 "nbformat": 4,
 "nbformat_minor": 1
}
